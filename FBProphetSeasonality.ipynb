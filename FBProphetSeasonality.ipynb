{
 "cells": [
  {
   "metadata": {},
   "cell_type": "code",
   "source": "!pip install prophet",
   "id": "f5eecd218ed8e01d",
   "outputs": [],
   "execution_count": null
  },
  {
   "metadata": {},
   "cell_type": "code",
   "source": [
    "# Python\n",
    "import pandas as pd\n",
    "from prophet import Prophet\n"
   ],
   "id": "initial_id",
   "outputs": [],
   "execution_count": null
  },
  {
   "metadata": {},
   "cell_type": "code",
   "source": [
    "df = pd.read_csv('https://raw.githubusercontent.com/facebook/prophet/main/examples/example_air_passengers.csv')\n",
    "m = Prophet()\n",
    "m.fit(df)\n",
    "future = m.make_future_dataframe(50, freq='MS')\n",
    "forecast = m.predict(future)\n",
    "fig = m.plot(forecast)"
   ],
   "id": "32543832594d7",
   "outputs": [],
   "execution_count": null
  },
  {
   "metadata": {},
   "cell_type": "code",
   "source": [
    "m = Prophet(seasonality_mode='multiplicative')\n",
    "m.fit(df)\n",
    "forecast = m.predict(future)\n",
    "fig = m.plot(forecast)"
   ],
   "id": "e59331b5e2356c3e",
   "outputs": [],
   "execution_count": null
  },
  {
   "metadata": {},
   "cell_type": "code",
   "source": "fig = m.plot_components(forecast)\n",
   "id": "5f0272731b938d36",
   "outputs": [],
   "execution_count": null
  },
  {
   "metadata": {},
   "cell_type": "code",
   "source": [
    "m = Prophet(seasonality_mode='multiplicative')\n",
    "m.add_seasonality('quarterly', period=91.25, fourier_order=8, mode='additive')\n",
    "m.add_regressor('regressor', mode='additive')"
   ],
   "id": "268c0acaec9e1b45",
   "outputs": [],
   "execution_count": null
  }
 ],
 "metadata": {
  "kernelspec": {
   "display_name": "Python 3",
   "language": "python",
   "name": "python3"
  },
  "language_info": {
   "codemirror_mode": {
    "name": "ipython",
    "version": 2
   },
   "file_extension": ".py",
   "mimetype": "text/x-python",
   "name": "python",
   "nbconvert_exporter": "python",
   "pygments_lexer": "ipython2",
   "version": "2.7.6"
  }
 },
 "nbformat": 4,
 "nbformat_minor": 5
}
