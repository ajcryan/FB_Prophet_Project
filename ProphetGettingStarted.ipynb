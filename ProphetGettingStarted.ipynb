{
 "cells": [
  {
   "cell_type": "code",
   "id": "initial_id",
   "metadata": {
    "collapsed": true
   },
   "source": [
    "# Python\n",
    "import pandas as pd\n",
    "from prophet import Prophet\n",
    "\n"
   ],
   "outputs": [],
   "execution_count": null
  },
  {
   "metadata": {},
   "cell_type": "code",
   "source": "df = pd.read_csv('https://raw.githubusercontent.com/facebook/prophet/main/examples/example_wp_log_peyton_manning.csv')",
   "id": "31427affe30ffa7a",
   "outputs": [],
   "execution_count": null
  },
  {
   "metadata": {},
   "cell_type": "code",
   "source": [
    "m = Prophet()\n",
    "m.fit(df)"
   ],
   "id": "713fa28f19bdfc7c",
   "outputs": [],
   "execution_count": null
  },
  {
   "metadata": {},
   "cell_type": "code",
   "source": [
    "future = m.make_future_dataframe(periods=365)\n",
    "future.tail()"
   ],
   "id": "73de08510d3ea3ce",
   "outputs": [],
   "execution_count": null
  },
  {
   "metadata": {},
   "cell_type": "code",
   "source": [
    "forecast = m.predict(future)\n",
    "forecast[['ds', 'yhat', 'yhat_lower', 'yhat_upper']].tail()"
   ],
   "id": "f1062eec00df475f",
   "outputs": [],
   "execution_count": null
  },
  {
   "metadata": {},
   "cell_type": "code",
   "source": "fig1 = m.plot(forecast)",
   "id": "f70c0afaa386c397",
   "outputs": [],
   "execution_count": null
  },
  {
   "metadata": {},
   "cell_type": "code",
   "source": [
    "# Python\n",
    "fig2 = m.plot_components(forecast)"
   ],
   "id": "5ad35852ce0d3a83",
   "outputs": [],
   "execution_count": null
  },
  {
   "metadata": {},
   "cell_type": "code",
   "source": [
    "from prophet.plot import add_changepoints_to_plot\n",
    "fig = m.plot(forecast)\n",
    "a = add_changepoints_to_plot(fig.gca(), m, forecast)\n",
    "\n"
   ],
   "id": "12938964ce0d47f2",
   "outputs": [],
   "execution_count": null
  },
  {
   "metadata": {},
   "cell_type": "code",
   "source": [
    "m = Prophet(changepoint_prior_scale=0.5)\n",
    "forecast = m.fit(df).predict(future)\n",
    "fig = m.plot(forecast)\n"
   ],
   "id": "4394d446bf3324f4",
   "outputs": [],
   "execution_count": null
  },
  {
   "metadata": {},
   "cell_type": "code",
   "source": [
    "m = Prophet(changepoint_prior_scale=0.001)\n",
    "forecast = m.fit(df).predict(future)\n",
    "fig = m.plot(forecast)"
   ],
   "id": "d185eba1f50602",
   "outputs": [],
   "execution_count": null
  },
  {
   "metadata": {},
   "cell_type": "code",
   "source": [
    "m = Prophet(changepoints=['2014-01-01'])\n",
    "forecast = m.fit(df).predict(future)\n",
    "fig = m.plot(forecast)"
   ],
   "id": "e4a44c24172dd444",
   "outputs": [],
   "execution_count": null
  },
  {
   "metadata": {},
   "cell_type": "code",
   "source": [
    "playoffs = pd.DataFrame({\n",
    "  'holiday': 'playoff',\n",
    "  'ds': pd.to_datetime(['2008-01-13', '2009-01-03', '2010-01-16',\n",
    "                        '2010-01-24', '2010-02-07', '2011-01-08',\n",
    "                        '2013-01-12', '2014-01-12', '2014-01-19',\n",
    "                        '2014-02-02', '2015-01-11', '2016-01-17',\n",
    "                        '2016-01-24', '2016-02-07']),\n",
    "  'lower_window': 0,\n",
    "  'upper_window': 1,\n",
    "})\n",
    "superbowls = pd.DataFrame({\n",
    "  'holiday': 'superbowl',\n",
    "  'ds': pd.to_datetime(['2010-02-07', '2014-02-02', '2016-02-07']),\n",
    "  'lower_window': 0,\n",
    "  'upper_window': 1,\n",
    "})\n",
    "holidays = pd.concat((playoffs, superbowls))"
   ],
   "id": "ab36d6f84db84520",
   "outputs": [],
   "execution_count": null
  },
  {
   "metadata": {},
   "cell_type": "code",
   "source": [
    "m = Prophet(holidays=holidays)\n",
    "forecast = m.fit(df).predict(future)\n",
    "forecast[(forecast['playoff'] + forecast['superbowl']).abs() > 0][\n",
    "        ['ds', 'playoff', 'superbowl']][-10:]\n",
    "fig = m.plot_components(forecast)"
   ],
   "id": "f5ea4e5f583f354b",
   "outputs": [],
   "execution_count": null
  },
  {
   "metadata": {},
   "cell_type": "code",
   "source": [
    "m = Prophet(holidays=holidays)\n",
    "m.add_country_holidays(country_name='US')\n",
    "m.fit(df)"
   ],
   "id": "e2c43a9944a19c23",
   "outputs": [],
   "execution_count": null
  },
  {
   "metadata": {},
   "cell_type": "code",
   "source": "m.train_holiday_names",
   "id": "2edb8f1bb16bbf55",
   "outputs": [],
   "execution_count": null
  },
  {
   "metadata": {},
   "cell_type": "code",
   "source": [
    "forecast = m.predict(future)\n",
    "fig = m.plot_components(forecast)\n"
   ],
   "id": "a4b0ccc4948ec742",
   "outputs": [],
   "execution_count": null
  },
  {
   "metadata": {},
   "cell_type": "code",
   "source": [
    "from prophet.make_holidays import make_holidays_df\n",
    "\n",
    "nsw_holidays = make_holidays_df(\n",
    "    year_list=[2019 + i for i in range(10)], country='AU', province='NSW'\n",
    ")\n",
    "nsw_holidays.head(n=10)"
   ],
   "id": "42d56c3a38b73ca5",
   "outputs": [],
   "execution_count": null
  },
  {
   "metadata": {},
   "cell_type": "code",
   "source": "m_nsw = Prophet(holidays=nsw_holidays)\n",
   "id": "7a1d0611e1cfe595",
   "outputs": [],
   "execution_count": null
  },
  {
   "metadata": {},
   "cell_type": "code",
   "source": [
    "from prophet.plot import plot_yearly\n",
    "m = Prophet().fit(df)\n",
    "a = plot_yearly(m)"
   ],
   "id": "388dcc1b26b00cb4",
   "outputs": [],
   "execution_count": null
  },
  {
   "metadata": {},
   "cell_type": "code",
   "source": [
    "from prophet.plot import plot_yearly\n",
    "m = Prophet(yearly_seasonality=20).fit(df)\n",
    "a = plot_yearly(m)"
   ],
   "id": "4eadd3a94f104305",
   "outputs": [],
   "execution_count": null
  },
  {
   "metadata": {},
   "cell_type": "code",
   "source": [
    "m = Prophet(weekly_seasonality=False)\n",
    "m.add_seasonality(name='monthly', period=30.5, fourier_order=5)\n",
    "forecast = m.fit(df).predict(future)\n",
    "fig = m.plot_components(forecast)"
   ],
   "id": "47f95b25a7b521f2",
   "outputs": [],
   "execution_count": null
  },
  {
   "metadata": {},
   "cell_type": "code",
   "source": [
    "def is_nfl_season(ds):\n",
    "    date = pd.to_datetime(ds)\n",
    "    return (date.month > 8 or date.month < 2)\n",
    "\n",
    "df['on_season'] = df['ds'].apply(is_nfl_season)\n",
    "df['off_season'] = ~df['ds'].apply(is_nfl_season)\n"
   ],
   "id": "fd627fb7da664320",
   "outputs": [],
   "execution_count": null
  },
  {
   "metadata": {},
   "cell_type": "code",
   "source": [
    "m = Prophet(weekly_seasonality=False)\n",
    "m.add_seasonality(name='weekly_on_season', period=7, fourier_order=3, condition_name='on_season')\n",
    "m.add_seasonality(name='weekly_off_season', period=7, fourier_order=3, condition_name='off_season')\n",
    "\n",
    "future['on_season'] = future['ds'].apply(is_nfl_season)\n",
    "future['off_season'] = ~future['ds'].apply(is_nfl_season)\n",
    "forecast = m.fit(df).predict(future)\n",
    "fig = m.plot_components(forecast)"
   ],
   "id": "7b1f8e56f928b5c8",
   "outputs": [],
   "execution_count": null
  },
  {
   "metadata": {},
   "cell_type": "code",
   "source": [
    "m = Prophet(holidays=holidays, holidays_prior_scale=0.05).fit(df)\n",
    "forecast = m.predict(future)\n",
    "forecast[(forecast['playoff'] + forecast['superbowl']).abs() > 0][\n",
    "    ['ds', 'playoff', 'superbowl']][-10:]"
   ],
   "id": "e9ca6761350cba45",
   "outputs": [],
   "execution_count": null
  },
  {
   "metadata": {},
   "cell_type": "code",
   "source": [
    "m = Prophet()\n",
    "m.add_seasonality(\n",
    "    name='weekly', period=7, fourier_order=3, prior_scale=0.1)\n"
   ],
   "id": "357859d73cdb3409",
   "outputs": [],
   "execution_count": null
  },
  {
   "metadata": {},
   "cell_type": "code",
   "source": [
    "def nfl_sunday(ds):\n",
    "    date = pd.to_datetime(ds)\n",
    "    if date.weekday() == 6 and (date.month > 8 or date.month < 2):\n",
    "        return 1\n",
    "    else:\n",
    "        return 0\n",
    "df['nfl_sunday'] = df['ds'].apply(nfl_sunday)\n",
    "\n",
    "m = Prophet()\n",
    "m.add_regressor('nfl_sunday')\n",
    "m.fit(df)\n",
    "\n",
    "future['nfl_sunday'] = future['ds'].apply(nfl_sunday)\n",
    "\n",
    "forecast = m.predict(future)\n",
    "fig = m.plot_components(forecast)"
   ],
   "id": "fa3e1ed3186d2e8c",
   "outputs": [],
   "execution_count": null
  }
 ],
 "metadata": {
  "kernelspec": {
   "display_name": "Python 3",
   "language": "python",
   "name": "python3"
  },
  "language_info": {
   "codemirror_mode": {
    "name": "ipython",
    "version": 2
   },
   "file_extension": ".py",
   "mimetype": "text/x-python",
   "name": "python",
   "nbconvert_exporter": "python",
   "pygments_lexer": "ipython2",
   "version": "2.7.6"
  }
 },
 "nbformat": 4,
 "nbformat_minor": 5
}
