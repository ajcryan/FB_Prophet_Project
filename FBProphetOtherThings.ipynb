{
 "cells": [
  {
   "metadata": {
    "ExecuteTime": {
     "end_time": "2024-10-21T06:03:38.627773Z",
     "start_time": "2024-10-21T06:03:37.901195Z"
    }
   },
   "cell_type": "code",
   "source": [
    "import pandas as pd\n",
    "from prophet import Prophet"
   ],
   "id": "29dcb34e89666624",
   "outputs": [],
   "execution_count": 1
  },
  {
   "metadata": {
    "ExecuteTime": {
     "end_time": "2024-10-21T06:03:58.331735Z",
     "start_time": "2024-10-21T06:03:40.780742Z"
    }
   },
   "cell_type": "code",
   "source": [
    "def warm_start_params(m):\n",
    "    \"\"\"\n",
    "    Retrieve parameters from a trained model in the format used to initialize a new Stan model.\n",
    "    Note that the new Stan model must have these same settings:\n",
    "        n_changepoints, seasonality features, mcmc sampling\n",
    "    for the retrieved parameters to be valid for the new model.\n",
    "\n",
    "    Parameters\n",
    "    ----------\n",
    "    m: A trained model of the Prophet class.\n",
    "\n",
    "    Returns\n",
    "    -------\n",
    "    A Dictionary containing retrieved parameters of m.\n",
    "    \"\"\"\n",
    "    res = {}\n",
    "    for pname in ['k', 'm', 'sigma_obs']:\n",
    "        if m.mcmc_samples == 0:\n",
    "            res[pname] = m.params[pname][0][0]\n",
    "        else:\n",
    "            res[pname] = np.mean(m.params[pname])\n",
    "    for pname in ['delta', 'beta']:\n",
    "        if m.mcmc_samples == 0:\n",
    "            res[pname] = m.params[pname][0]\n",
    "        else:\n",
    "            res[pname] = np.mean(m.params[pname], axis=0)\n",
    "    return res\n",
    "\n",
    "df = pd.read_csv('https://raw.githubusercontent.com/facebook/prophet/main/examples/example_wp_log_peyton_manning.csv')\n",
    "df1 = df.loc[df['ds'] < '2016-01-19', :]  # All data except the last day\n",
    "m1 = Prophet().fit(df1) # A model fit to all data except the last day\n",
    "\n",
    "\n",
    "%timeit m2 = Prophet().fit(df)  # Adding the last day, fitting from scratch\n",
    "%timeit m2 = Prophet().fit(df, init=warm_start_params(m1))  # Adding the last day, warm-starting from m1"
   ],
   "id": "9f7e026c0a705715",
   "outputs": [
    {
     "name": "stderr",
     "output_type": "stream",
     "text": [
      "17:03:41 - cmdstanpy - INFO - Chain [1] start processing\n",
      "17:03:41 - cmdstanpy - INFO - Chain [1] done processing\n",
      "17:03:41 - cmdstanpy - INFO - Chain [1] start processing\n",
      "17:03:41 - cmdstanpy - INFO - Chain [1] done processing\n",
      "17:03:41 - cmdstanpy - INFO - Chain [1] start processing\n",
      "17:03:42 - cmdstanpy - INFO - Chain [1] done processing\n",
      "17:03:42 - cmdstanpy - INFO - Chain [1] start processing\n",
      "17:03:42 - cmdstanpy - INFO - Chain [1] done processing\n",
      "17:03:42 - cmdstanpy - INFO - Chain [1] start processing\n",
      "17:03:42 - cmdstanpy - INFO - Chain [1] done processing\n",
      "17:03:43 - cmdstanpy - INFO - Chain [1] start processing\n",
      "17:03:43 - cmdstanpy - INFO - Chain [1] done processing\n",
      "17:03:43 - cmdstanpy - INFO - Chain [1] start processing\n",
      "17:03:43 - cmdstanpy - INFO - Chain [1] done processing\n",
      "17:03:43 - cmdstanpy - INFO - Chain [1] start processing\n",
      "17:03:43 - cmdstanpy - INFO - Chain [1] done processing\n",
      "17:03:44 - cmdstanpy - INFO - Chain [1] start processing\n",
      "17:03:44 - cmdstanpy - INFO - Chain [1] done processing\n",
      "17:03:44 - cmdstanpy - INFO - Chain [1] start processing\n",
      "17:03:44 - cmdstanpy - INFO - Chain [1] done processing\n"
     ]
    },
    {
     "name": "stdout",
     "output_type": "stream",
     "text": [
      "345 ms ± 7.69 ms per loop (mean ± std. dev. of 7 runs, 1 loop each)\n"
     ]
    },
    {
     "name": "stderr",
     "output_type": "stream",
     "text": [
      "17:03:44 - cmdstanpy - INFO - Chain [1] start processing\n",
      "17:03:44 - cmdstanpy - INFO - Chain [1] done processing\n",
      "17:03:44 - cmdstanpy - INFO - Chain [1] start processing\n",
      "17:03:44 - cmdstanpy - INFO - Chain [1] done processing\n",
      "17:03:44 - cmdstanpy - INFO - Chain [1] start processing\n",
      "17:03:45 - cmdstanpy - INFO - Chain [1] done processing\n",
      "17:03:45 - cmdstanpy - INFO - Chain [1] start processing\n",
      "17:03:45 - cmdstanpy - INFO - Chain [1] done processing\n",
      "17:03:45 - cmdstanpy - INFO - Chain [1] start processing\n",
      "17:03:45 - cmdstanpy - INFO - Chain [1] done processing\n",
      "17:03:45 - cmdstanpy - INFO - Chain [1] start processing\n",
      "17:03:45 - cmdstanpy - INFO - Chain [1] done processing\n",
      "17:03:45 - cmdstanpy - INFO - Chain [1] start processing\n",
      "17:03:45 - cmdstanpy - INFO - Chain [1] done processing\n",
      "17:03:45 - cmdstanpy - INFO - Chain [1] start processing\n",
      "17:03:45 - cmdstanpy - INFO - Chain [1] done processing\n",
      "17:03:45 - cmdstanpy - INFO - Chain [1] start processing\n",
      "17:03:46 - cmdstanpy - INFO - Chain [1] done processing\n",
      "17:03:46 - cmdstanpy - INFO - Chain [1] start processing\n",
      "17:03:46 - cmdstanpy - INFO - Chain [1] done processing\n",
      "17:03:46 - cmdstanpy - INFO - Chain [1] start processing\n",
      "17:03:46 - cmdstanpy - INFO - Chain [1] done processing\n",
      "17:03:46 - cmdstanpy - INFO - Chain [1] start processing\n",
      "17:03:46 - cmdstanpy - INFO - Chain [1] done processing\n",
      "17:03:46 - cmdstanpy - INFO - Chain [1] start processing\n",
      "17:03:46 - cmdstanpy - INFO - Chain [1] done processing\n",
      "17:03:46 - cmdstanpy - INFO - Chain [1] start processing\n",
      "17:03:46 - cmdstanpy - INFO - Chain [1] done processing\n",
      "17:03:46 - cmdstanpy - INFO - Chain [1] start processing\n",
      "17:03:47 - cmdstanpy - INFO - Chain [1] done processing\n",
      "17:03:47 - cmdstanpy - INFO - Chain [1] start processing\n",
      "17:03:47 - cmdstanpy - INFO - Chain [1] done processing\n",
      "17:03:47 - cmdstanpy - INFO - Chain [1] start processing\n",
      "17:03:47 - cmdstanpy - INFO - Chain [1] done processing\n",
      "17:03:47 - cmdstanpy - INFO - Chain [1] start processing\n",
      "17:03:47 - cmdstanpy - INFO - Chain [1] done processing\n",
      "17:03:47 - cmdstanpy - INFO - Chain [1] start processing\n",
      "17:03:47 - cmdstanpy - INFO - Chain [1] done processing\n",
      "17:03:47 - cmdstanpy - INFO - Chain [1] start processing\n",
      "17:03:47 - cmdstanpy - INFO - Chain [1] done processing\n",
      "17:03:47 - cmdstanpy - INFO - Chain [1] start processing\n",
      "17:03:48 - cmdstanpy - INFO - Chain [1] done processing\n",
      "17:03:48 - cmdstanpy - INFO - Chain [1] start processing\n",
      "17:03:48 - cmdstanpy - INFO - Chain [1] done processing\n",
      "17:03:48 - cmdstanpy - INFO - Chain [1] start processing\n",
      "17:03:48 - cmdstanpy - INFO - Chain [1] done processing\n",
      "17:03:48 - cmdstanpy - INFO - Chain [1] start processing\n",
      "17:03:48 - cmdstanpy - INFO - Chain [1] done processing\n",
      "17:03:48 - cmdstanpy - INFO - Chain [1] start processing\n",
      "17:03:48 - cmdstanpy - INFO - Chain [1] done processing\n",
      "17:03:48 - cmdstanpy - INFO - Chain [1] start processing\n",
      "17:03:48 - cmdstanpy - INFO - Chain [1] done processing\n",
      "17:03:49 - cmdstanpy - INFO - Chain [1] start processing\n",
      "17:03:49 - cmdstanpy - INFO - Chain [1] done processing\n",
      "17:03:49 - cmdstanpy - INFO - Chain [1] start processing\n",
      "17:03:49 - cmdstanpy - INFO - Chain [1] done processing\n",
      "17:03:49 - cmdstanpy - INFO - Chain [1] start processing\n",
      "17:03:49 - cmdstanpy - INFO - Chain [1] done processing\n",
      "17:03:49 - cmdstanpy - INFO - Chain [1] start processing\n",
      "17:03:49 - cmdstanpy - INFO - Chain [1] done processing\n",
      "17:03:49 - cmdstanpy - INFO - Chain [1] start processing\n",
      "17:03:49 - cmdstanpy - INFO - Chain [1] done processing\n",
      "17:03:49 - cmdstanpy - INFO - Chain [1] start processing\n",
      "17:03:49 - cmdstanpy - INFO - Chain [1] done processing\n",
      "17:03:50 - cmdstanpy - INFO - Chain [1] start processing\n",
      "17:03:50 - cmdstanpy - INFO - Chain [1] done processing\n",
      "17:03:50 - cmdstanpy - INFO - Chain [1] start processing\n",
      "17:03:50 - cmdstanpy - INFO - Chain [1] done processing\n",
      "17:03:50 - cmdstanpy - INFO - Chain [1] start processing\n",
      "17:03:50 - cmdstanpy - INFO - Chain [1] done processing\n",
      "17:03:50 - cmdstanpy - INFO - Chain [1] start processing\n",
      "17:03:50 - cmdstanpy - INFO - Chain [1] done processing\n",
      "17:03:50 - cmdstanpy - INFO - Chain [1] start processing\n",
      "17:03:50 - cmdstanpy - INFO - Chain [1] done processing\n",
      "17:03:50 - cmdstanpy - INFO - Chain [1] start processing\n",
      "17:03:50 - cmdstanpy - INFO - Chain [1] done processing\n",
      "17:03:51 - cmdstanpy - INFO - Chain [1] start processing\n",
      "17:03:51 - cmdstanpy - INFO - Chain [1] done processing\n",
      "17:03:51 - cmdstanpy - INFO - Chain [1] start processing\n",
      "17:03:51 - cmdstanpy - INFO - Chain [1] done processing\n",
      "17:03:51 - cmdstanpy - INFO - Chain [1] start processing\n",
      "17:03:51 - cmdstanpy - INFO - Chain [1] done processing\n",
      "17:03:51 - cmdstanpy - INFO - Chain [1] start processing\n",
      "17:03:51 - cmdstanpy - INFO - Chain [1] done processing\n",
      "17:03:51 - cmdstanpy - INFO - Chain [1] start processing\n",
      "17:03:51 - cmdstanpy - INFO - Chain [1] done processing\n",
      "17:03:51 - cmdstanpy - INFO - Chain [1] start processing\n",
      "17:03:52 - cmdstanpy - INFO - Chain [1] done processing\n",
      "17:03:52 - cmdstanpy - INFO - Chain [1] start processing\n",
      "17:03:52 - cmdstanpy - INFO - Chain [1] done processing\n",
      "17:03:52 - cmdstanpy - INFO - Chain [1] start processing\n",
      "17:03:52 - cmdstanpy - INFO - Chain [1] done processing\n",
      "17:03:52 - cmdstanpy - INFO - Chain [1] start processing\n",
      "17:03:52 - cmdstanpy - INFO - Chain [1] done processing\n",
      "17:03:52 - cmdstanpy - INFO - Chain [1] start processing\n",
      "17:03:52 - cmdstanpy - INFO - Chain [1] done processing\n",
      "17:03:52 - cmdstanpy - INFO - Chain [1] start processing\n",
      "17:03:52 - cmdstanpy - INFO - Chain [1] done processing\n",
      "17:03:52 - cmdstanpy - INFO - Chain [1] start processing\n",
      "17:03:53 - cmdstanpy - INFO - Chain [1] done processing\n",
      "17:03:53 - cmdstanpy - INFO - Chain [1] start processing\n",
      "17:03:53 - cmdstanpy - INFO - Chain [1] done processing\n",
      "17:03:53 - cmdstanpy - INFO - Chain [1] start processing\n",
      "17:03:53 - cmdstanpy - INFO - Chain [1] done processing\n",
      "17:03:53 - cmdstanpy - INFO - Chain [1] start processing\n",
      "17:03:53 - cmdstanpy - INFO - Chain [1] done processing\n",
      "17:03:53 - cmdstanpy - INFO - Chain [1] start processing\n",
      "17:03:53 - cmdstanpy - INFO - Chain [1] done processing\n",
      "17:03:53 - cmdstanpy - INFO - Chain [1] start processing\n",
      "17:03:53 - cmdstanpy - INFO - Chain [1] done processing\n",
      "17:03:53 - cmdstanpy - INFO - Chain [1] start processing\n",
      "17:03:54 - cmdstanpy - INFO - Chain [1] done processing\n",
      "17:03:54 - cmdstanpy - INFO - Chain [1] start processing\n",
      "17:03:54 - cmdstanpy - INFO - Chain [1] done processing\n",
      "17:03:54 - cmdstanpy - INFO - Chain [1] start processing\n",
      "17:03:54 - cmdstanpy - INFO - Chain [1] done processing\n",
      "17:03:54 - cmdstanpy - INFO - Chain [1] start processing\n",
      "17:03:54 - cmdstanpy - INFO - Chain [1] done processing\n",
      "17:03:54 - cmdstanpy - INFO - Chain [1] start processing\n",
      "17:03:54 - cmdstanpy - INFO - Chain [1] done processing\n",
      "17:03:54 - cmdstanpy - INFO - Chain [1] start processing\n",
      "17:03:54 - cmdstanpy - INFO - Chain [1] done processing\n",
      "17:03:55 - cmdstanpy - INFO - Chain [1] start processing\n",
      "17:03:55 - cmdstanpy - INFO - Chain [1] done processing\n",
      "17:03:55 - cmdstanpy - INFO - Chain [1] start processing\n",
      "17:03:55 - cmdstanpy - INFO - Chain [1] done processing\n",
      "17:03:55 - cmdstanpy - INFO - Chain [1] start processing\n",
      "17:03:55 - cmdstanpy - INFO - Chain [1] done processing\n",
      "17:03:55 - cmdstanpy - INFO - Chain [1] start processing\n",
      "17:03:55 - cmdstanpy - INFO - Chain [1] done processing\n",
      "17:03:55 - cmdstanpy - INFO - Chain [1] start processing\n",
      "17:03:55 - cmdstanpy - INFO - Chain [1] done processing\n",
      "17:03:55 - cmdstanpy - INFO - Chain [1] start processing\n",
      "17:03:55 - cmdstanpy - INFO - Chain [1] done processing\n",
      "17:03:56 - cmdstanpy - INFO - Chain [1] start processing\n",
      "17:03:56 - cmdstanpy - INFO - Chain [1] done processing\n",
      "17:03:56 - cmdstanpy - INFO - Chain [1] start processing\n",
      "17:03:56 - cmdstanpy - INFO - Chain [1] done processing\n",
      "17:03:56 - cmdstanpy - INFO - Chain [1] start processing\n",
      "17:03:56 - cmdstanpy - INFO - Chain [1] done processing\n",
      "17:03:56 - cmdstanpy - INFO - Chain [1] start processing\n",
      "17:03:56 - cmdstanpy - INFO - Chain [1] done processing\n",
      "17:03:56 - cmdstanpy - INFO - Chain [1] start processing\n",
      "17:03:56 - cmdstanpy - INFO - Chain [1] done processing\n",
      "17:03:56 - cmdstanpy - INFO - Chain [1] start processing\n",
      "17:03:57 - cmdstanpy - INFO - Chain [1] done processing\n",
      "17:03:57 - cmdstanpy - INFO - Chain [1] start processing\n",
      "17:03:57 - cmdstanpy - INFO - Chain [1] done processing\n",
      "17:03:57 - cmdstanpy - INFO - Chain [1] start processing\n",
      "17:03:57 - cmdstanpy - INFO - Chain [1] done processing\n",
      "17:03:57 - cmdstanpy - INFO - Chain [1] start processing\n",
      "17:03:57 - cmdstanpy - INFO - Chain [1] done processing\n",
      "17:03:57 - cmdstanpy - INFO - Chain [1] start processing\n",
      "17:03:57 - cmdstanpy - INFO - Chain [1] done processing\n",
      "17:03:57 - cmdstanpy - INFO - Chain [1] start processing\n",
      "17:03:57 - cmdstanpy - INFO - Chain [1] done processing\n",
      "17:03:57 - cmdstanpy - INFO - Chain [1] start processing\n",
      "17:03:58 - cmdstanpy - INFO - Chain [1] done processing\n",
      "17:03:58 - cmdstanpy - INFO - Chain [1] start processing\n",
      "17:03:58 - cmdstanpy - INFO - Chain [1] done processing\n"
     ]
    },
    {
     "name": "stdout",
     "output_type": "stream",
     "text": [
      "173 ms ± 4.08 ms per loop (mean ± std. dev. of 7 runs, 10 loops each)\n"
     ]
    }
   ],
   "execution_count": 2
  },
  {
   "metadata": {},
   "cell_type": "markdown",
   "source": "## Flat Trend",
   "id": "ac0ecf3beff672cc"
  },
  {
   "metadata": {
    "ExecuteTime": {
     "end_time": "2024-10-21T06:05:58.874917Z",
     "start_time": "2024-10-21T06:05:58.446653Z"
    }
   },
   "cell_type": "code",
   "source": [
    "import pandas as pd\n",
    "from prophet import Prophet\n",
    "import matplotlib.pyplot as plt\n",
    "\n",
    "import warnings\n",
    "warnings.simplefilter(action='ignore', category=FutureWarning)\n",
    "\n",
    "regressor = \"location_4\"\n",
    "target = \"location_41\"\n",
    "cutoff = pd.to_datetime(\"2023-04-17 00:00:00\")\n",
    "\n",
    "df = (\n",
    "    pd.read_csv(\n",
    "        \"https://raw.githubusercontent.com/facebook/prophet/main/examples/example_pedestrians_multivariate.csv\", \n",
    "        parse_dates=[\"ds\"]\n",
    "    )\n",
    "    .rename(columns={target: \"y\"})\n",
    ")\n",
    "train = df.loc[df[\"ds\"] < cutoff]\n",
    "test = df.loc[df[\"ds\"] >= cutoff]"
   ],
   "id": "6e8788f64ed272a",
   "outputs": [],
   "execution_count": 3
  },
  {
   "metadata": {
    "ExecuteTime": {
     "end_time": "2024-10-21T06:06:23.336415Z",
     "start_time": "2024-10-21T06:06:23.328597Z"
    }
   },
   "cell_type": "code",
   "source": [
    "def fit_model(growth):\n",
    "    m = Prophet(growth=growth, seasonality_mode=\"multiplicative\", daily_seasonality=15)\n",
    "    m.add_regressor(\"location_4\", mode=\"multiplicative\")\n",
    "    m.fit(train)\n",
    "    preds = pd.merge(\n",
    "        test,\n",
    "        m.predict(test),\n",
    "        on=\"ds\",\n",
    "        how=\"inner\"\n",
    "    )\n",
    "    mape = ((preds[\"yhat\"] - preds[\"y\"]).abs() / preds_linear[\"y\"]).mean()\n",
    "    return m, preds, mape"
   ],
   "id": "d5bdc6442a186aee",
   "outputs": [],
   "execution_count": 4
  },
  {
   "metadata": {
    "ExecuteTime": {
     "end_time": "2024-10-21T06:07:14.343029Z",
     "start_time": "2024-10-21T06:07:14.137467Z"
    }
   },
   "cell_type": "code",
   "source": "m_linear, preds_linear, mape_linear = fit_model(\"linear\")\n",
   "id": "919aafab5aa9095c",
   "outputs": [
    {
     "name": "stderr",
     "output_type": "stream",
     "text": [
      "17:07:14 - cmdstanpy - INFO - Chain [1] start processing\n",
      "17:07:14 - cmdstanpy - INFO - Chain [1] done processing\n"
     ]
    },
    {
     "ename": "NameError",
     "evalue": "name 'preds_linear' is not defined",
     "output_type": "error",
     "traceback": [
      "\u001B[0;31m---------------------------------------------------------------------------\u001B[0m",
      "\u001B[0;31mNameError\u001B[0m                                 Traceback (most recent call last)",
      "Cell \u001B[0;32mIn[7], line 1\u001B[0m\n\u001B[0;32m----> 1\u001B[0m m_linear, preds_linear, mape_linear \u001B[38;5;241m=\u001B[39m fit_model(\u001B[38;5;124m\"\u001B[39m\u001B[38;5;124mlinear\u001B[39m\u001B[38;5;124m\"\u001B[39m)\n",
      "Cell \u001B[0;32mIn[4], line 11\u001B[0m, in \u001B[0;36mfit_model\u001B[0;34m(growth)\u001B[0m\n\u001B[1;32m      4\u001B[0m m\u001B[38;5;241m.\u001B[39mfit(train)\n\u001B[1;32m      5\u001B[0m preds \u001B[38;5;241m=\u001B[39m pd\u001B[38;5;241m.\u001B[39mmerge(\n\u001B[1;32m      6\u001B[0m     test,\n\u001B[1;32m      7\u001B[0m     m\u001B[38;5;241m.\u001B[39mpredict(test),\n\u001B[1;32m      8\u001B[0m     on\u001B[38;5;241m=\u001B[39m\u001B[38;5;124m\"\u001B[39m\u001B[38;5;124mds\u001B[39m\u001B[38;5;124m\"\u001B[39m,\n\u001B[1;32m      9\u001B[0m     how\u001B[38;5;241m=\u001B[39m\u001B[38;5;124m\"\u001B[39m\u001B[38;5;124minner\u001B[39m\u001B[38;5;124m\"\u001B[39m\n\u001B[1;32m     10\u001B[0m )\n\u001B[0;32m---> 11\u001B[0m mape \u001B[38;5;241m=\u001B[39m ((preds[\u001B[38;5;124m\"\u001B[39m\u001B[38;5;124myhat\u001B[39m\u001B[38;5;124m\"\u001B[39m] \u001B[38;5;241m-\u001B[39m preds[\u001B[38;5;124m\"\u001B[39m\u001B[38;5;124my\u001B[39m\u001B[38;5;124m\"\u001B[39m])\u001B[38;5;241m.\u001B[39mabs() \u001B[38;5;241m/\u001B[39m preds_linear[\u001B[38;5;124m\"\u001B[39m\u001B[38;5;124my\u001B[39m\u001B[38;5;124m\"\u001B[39m])\u001B[38;5;241m.\u001B[39mmean()\n\u001B[1;32m     12\u001B[0m \u001B[38;5;28;01mreturn\u001B[39;00m m, preds, mape\n",
      "\u001B[0;31mNameError\u001B[0m: name 'preds_linear' is not defined"
     ]
    }
   ],
   "execution_count": 7
  },
  {
   "metadata": {
    "ExecuteTime": {
     "end_time": "2024-10-21T06:08:29.141052Z",
     "start_time": "2024-10-21T06:08:28.970463Z"
    }
   },
   "cell_type": "code",
   "source": "m_flat, preds_flat, mape_flat = fit_model(\"flat\")\n",
   "id": "b0835eaaa68a9c40",
   "outputs": [
    {
     "name": "stderr",
     "output_type": "stream",
     "text": [
      "17:08:29 - cmdstanpy - INFO - Chain [1] start processing\n",
      "17:08:29 - cmdstanpy - INFO - Chain [1] done processing\n"
     ]
    },
    {
     "ename": "NameError",
     "evalue": "name 'preds_linear' is not defined",
     "output_type": "error",
     "traceback": [
      "\u001B[0;31m---------------------------------------------------------------------------\u001B[0m",
      "\u001B[0;31mNameError\u001B[0m                                 Traceback (most recent call last)",
      "Cell \u001B[0;32mIn[8], line 1\u001B[0m\n\u001B[0;32m----> 1\u001B[0m m_flat, preds_flat, mape_flat \u001B[38;5;241m=\u001B[39m fit_model(\u001B[38;5;124m\"\u001B[39m\u001B[38;5;124mflat\u001B[39m\u001B[38;5;124m\"\u001B[39m)\n",
      "Cell \u001B[0;32mIn[4], line 11\u001B[0m, in \u001B[0;36mfit_model\u001B[0;34m(growth)\u001B[0m\n\u001B[1;32m      4\u001B[0m m\u001B[38;5;241m.\u001B[39mfit(train)\n\u001B[1;32m      5\u001B[0m preds \u001B[38;5;241m=\u001B[39m pd\u001B[38;5;241m.\u001B[39mmerge(\n\u001B[1;32m      6\u001B[0m     test,\n\u001B[1;32m      7\u001B[0m     m\u001B[38;5;241m.\u001B[39mpredict(test),\n\u001B[1;32m      8\u001B[0m     on\u001B[38;5;241m=\u001B[39m\u001B[38;5;124m\"\u001B[39m\u001B[38;5;124mds\u001B[39m\u001B[38;5;124m\"\u001B[39m,\n\u001B[1;32m      9\u001B[0m     how\u001B[38;5;241m=\u001B[39m\u001B[38;5;124m\"\u001B[39m\u001B[38;5;124minner\u001B[39m\u001B[38;5;124m\"\u001B[39m\n\u001B[1;32m     10\u001B[0m )\n\u001B[0;32m---> 11\u001B[0m mape \u001B[38;5;241m=\u001B[39m ((preds[\u001B[38;5;124m\"\u001B[39m\u001B[38;5;124myhat\u001B[39m\u001B[38;5;124m\"\u001B[39m] \u001B[38;5;241m-\u001B[39m preds[\u001B[38;5;124m\"\u001B[39m\u001B[38;5;124my\u001B[39m\u001B[38;5;124m\"\u001B[39m])\u001B[38;5;241m.\u001B[39mabs() \u001B[38;5;241m/\u001B[39m preds_linear[\u001B[38;5;124m\"\u001B[39m\u001B[38;5;124my\u001B[39m\u001B[38;5;124m\"\u001B[39m])\u001B[38;5;241m.\u001B[39mmean()\n\u001B[1;32m     12\u001B[0m \u001B[38;5;28;01mreturn\u001B[39;00m m, preds, mape\n",
      "\u001B[0;31mNameError\u001B[0m: name 'preds_linear' is not defined"
     ]
    }
   ],
   "execution_count": 8
  },
  {
   "metadata": {
    "ExecuteTime": {
     "end_time": "2024-10-21T06:08:56.047872Z",
     "start_time": "2024-10-21T06:08:56.018418Z"
    }
   },
   "cell_type": "code",
   "source": [
    "m_linear.plot_components(preds_linear);\n",
    "\n"
   ],
   "id": "1fae517cdebb934f",
   "outputs": [
    {
     "ename": "NameError",
     "evalue": "name 'm_linear' is not defined",
     "output_type": "error",
     "traceback": [
      "\u001B[0;31m---------------------------------------------------------------------------\u001B[0m",
      "\u001B[0;31mNameError\u001B[0m                                 Traceback (most recent call last)",
      "Cell \u001B[0;32mIn[9], line 1\u001B[0m\n\u001B[0;32m----> 1\u001B[0m m_linear\u001B[38;5;241m.\u001B[39mplot_components(preds_linear)\n",
      "\u001B[0;31mNameError\u001B[0m: name 'm_linear' is not defined"
     ]
    }
   ],
   "execution_count": 9
  },
  {
   "metadata": {},
   "cell_type": "code",
   "outputs": [],
   "execution_count": null,
   "source": "",
   "id": "b363e201df278ff6"
  },
  {
   "metadata": {
    "ExecuteTime": {
     "end_time": "2024-10-21T06:14:48.218628Z",
     "start_time": "2024-10-21T06:14:48.183442Z"
    }
   },
   "cell_type": "code",
   "source": "m_flat.plot_components(preds_flat);\n",
   "id": "a4d9caaa8333c09b",
   "outputs": [
    {
     "ename": "NameError",
     "evalue": "name 'm_flat' is not defined",
     "output_type": "error",
     "traceback": [
      "\u001B[0;31m---------------------------------------------------------------------------\u001B[0m",
      "\u001B[0;31mNameError\u001B[0m                                 Traceback (most recent call last)",
      "Cell \u001B[0;32mIn[10], line 1\u001B[0m\n\u001B[0;32m----> 1\u001B[0m m_flat\u001B[38;5;241m.\u001B[39mplot_components(preds_flat)\n",
      "\u001B[0;31mNameError\u001B[0m: name 'm_flat' is not defined"
     ]
    }
   ],
   "execution_count": 10
  },
  {
   "metadata": {},
   "cell_type": "code",
   "outputs": [],
   "execution_count": null,
   "source": "",
   "id": "d0c7fadba6e54015"
  },
  {
   "metadata": {
    "ExecuteTime": {
     "end_time": "2024-10-21T06:15:28.648165Z",
     "start_time": "2024-10-21T06:15:28.542185Z"
    }
   },
   "cell_type": "code",
   "source": [
    "fig, ax = plt.subplots(figsize=(11, 5))\n",
    "ax.scatter(preds_linear[\"ds\"], preds_linear[\"y\"], color=\"black\", marker=\".\")\n",
    "ax.plot(preds_linear[\"ds\"], preds_linear[\"yhat\"], label=f\"linear, mape={mape_linear:.1%}\")\n",
    "ax.plot(preds_flat[\"ds\"], preds_flat[\"yhat\"], label=f\"flat, mape={mape_flat:.1%}\")\n",
    "plt.xticks(rotation=60)\n",
    "ax.legend();\n"
   ],
   "id": "cc6fcd0da8fda270",
   "outputs": [
    {
     "ename": "NameError",
     "evalue": "name 'preds_linear' is not defined",
     "output_type": "error",
     "traceback": [
      "\u001B[0;31m---------------------------------------------------------------------------\u001B[0m",
      "\u001B[0;31mNameError\u001B[0m                                 Traceback (most recent call last)",
      "Cell \u001B[0;32mIn[11], line 2\u001B[0m\n\u001B[1;32m      1\u001B[0m fig, ax \u001B[38;5;241m=\u001B[39m plt\u001B[38;5;241m.\u001B[39msubplots(figsize\u001B[38;5;241m=\u001B[39m(\u001B[38;5;241m11\u001B[39m, \u001B[38;5;241m5\u001B[39m))\n\u001B[0;32m----> 2\u001B[0m ax\u001B[38;5;241m.\u001B[39mscatter(preds_linear[\u001B[38;5;124m\"\u001B[39m\u001B[38;5;124mds\u001B[39m\u001B[38;5;124m\"\u001B[39m], preds_linear[\u001B[38;5;124m\"\u001B[39m\u001B[38;5;124my\u001B[39m\u001B[38;5;124m\"\u001B[39m], color\u001B[38;5;241m=\u001B[39m\u001B[38;5;124m\"\u001B[39m\u001B[38;5;124mblack\u001B[39m\u001B[38;5;124m\"\u001B[39m, marker\u001B[38;5;241m=\u001B[39m\u001B[38;5;124m\"\u001B[39m\u001B[38;5;124m.\u001B[39m\u001B[38;5;124m\"\u001B[39m)\n\u001B[1;32m      3\u001B[0m ax\u001B[38;5;241m.\u001B[39mplot(preds_linear[\u001B[38;5;124m\"\u001B[39m\u001B[38;5;124mds\u001B[39m\u001B[38;5;124m\"\u001B[39m], preds_linear[\u001B[38;5;124m\"\u001B[39m\u001B[38;5;124myhat\u001B[39m\u001B[38;5;124m\"\u001B[39m], label\u001B[38;5;241m=\u001B[39m\u001B[38;5;124mf\u001B[39m\u001B[38;5;124m\"\u001B[39m\u001B[38;5;124mlinear, mape=\u001B[39m\u001B[38;5;132;01m{\u001B[39;00mmape_linear\u001B[38;5;132;01m:\u001B[39;00m\u001B[38;5;124m.1%\u001B[39m\u001B[38;5;132;01m}\u001B[39;00m\u001B[38;5;124m\"\u001B[39m)\n\u001B[1;32m      4\u001B[0m ax\u001B[38;5;241m.\u001B[39mplot(preds_flat[\u001B[38;5;124m\"\u001B[39m\u001B[38;5;124mds\u001B[39m\u001B[38;5;124m\"\u001B[39m], preds_flat[\u001B[38;5;124m\"\u001B[39m\u001B[38;5;124myhat\u001B[39m\u001B[38;5;124m\"\u001B[39m], label\u001B[38;5;241m=\u001B[39m\u001B[38;5;124mf\u001B[39m\u001B[38;5;124m\"\u001B[39m\u001B[38;5;124mflat, mape=\u001B[39m\u001B[38;5;132;01m{\u001B[39;00mmape_flat\u001B[38;5;132;01m:\u001B[39;00m\u001B[38;5;124m.1%\u001B[39m\u001B[38;5;132;01m}\u001B[39;00m\u001B[38;5;124m\"\u001B[39m)\n",
      "\u001B[0;31mNameError\u001B[0m: name 'preds_linear' is not defined"
     ]
    },
    {
     "data": {
      "text/plain": [
       "<Figure size 1100x500 with 1 Axes>"
      ],
      "image/png": "[encoded data removed]"
     },
     "metadata": {},
     "output_type": "display_data"
    }
   ],
   "execution_count": 11
  }
 ],
 "metadata": {
  "kernelspec": {
   "display_name": "Python 3",
   "language": "python",
   "name": "python3"
  },
  "language_info": {
   "codemirror_mode": {
    "name": "ipython",
    "version": 2
   },
   "file_extension": ".py",
   "mimetype": "text/x-python",
   "name": "python",
   "nbconvert_exporter": "python",
   "pygments_lexer": "ipython2",
   "version": "2.7.6"
  }
 },
 "nbformat": 4,
 "nbformat_minor": 5
}
