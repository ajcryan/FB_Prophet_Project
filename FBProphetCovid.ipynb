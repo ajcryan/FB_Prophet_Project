{
 "cells": [
  {
   "cell_type": "code",
   "id": "initial_id",
   "metadata": {
    "collapsed": true
   },
   "source": [
    ""
   ],
   "outputs": [],
   "execution_count": null
  },
  {
   "metadata": {},
   "cell_type": "code",
   "source": [
    "%matplotlib inline\n",
    "from prophet import Prophet\n",
    "import pandas as pd\n",
    "from matplotlib import pyplot as plt\n",
    "import logging\n",
    "logging.getLogger('prophet').setLevel(logging.ERROR)\n",
    "import warnings\n",
    "warnings.filterwarnings(\"ignore\")\n",
    "\n",
    "plt.rcParams['figure.figsize'] = 9, 6"
   ],
   "id": "5251e55bf94dad91",
   "outputs": [],
   "execution_count": null
  },
  {
   "metadata": {},
   "cell_type": "code",
   "source": [
    "df = pd.read_csv('https://raw.githubusercontent.com/facebook/prophet/main/examples/example_pedestrians_covid.csv')\n",
    "df.set_index('ds').plot()"
   ],
   "id": "d43f60b907a63a80",
   "outputs": [],
   "execution_count": null
  },
  {
   "metadata": {},
   "cell_type": "code",
   "source": [
    "m = Prophet()\n",
    "m = m.fit(df)\n",
    "future = m.make_future_dataframe(periods=366)\n",
    "forecast = m.predict(future)"
   ],
   "id": "5cc14f49623e9b80",
   "outputs": [],
   "execution_count": null
  },
  {
   "metadata": {},
   "cell_type": "code",
   "source": [
    "m.plot(forecast)\n",
    "plt.axhline(y=0, color='red')\n",
    "plt.title('Default Prophet');\n",
    "plt.show()"
   ],
   "id": "f1ef382e8b61d86",
   "outputs": [],
   "execution_count": null
  },
  {
   "metadata": {},
   "cell_type": "code",
   "source": [
    "m.plot_components(forecast);\n",
    "plt.show()\n"
   ],
   "id": "c38a767389605327",
   "outputs": [],
   "execution_count": null
  },
  {
   "metadata": {},
   "cell_type": "code",
   "source": [
    "lockdowns = pd.DataFrame([\n",
    "    {'holiday': 'lockdown_1', 'ds': '2020-03-21', 'lower_window': 0, 'ds_upper': '2020-06-06'},\n",
    "    {'holiday': 'lockdown_2', 'ds': '2020-07-09', 'lower_window': 0, 'ds_upper': '2020-10-27'},\n",
    "    {'holiday': 'lockdown_3', 'ds': '2021-02-13', 'lower_window': 0, 'ds_upper': '2021-02-17'},\n",
    "    {'holiday': 'lockdown_4', 'ds': '2021-05-28', 'lower_window': 0, 'ds_upper': '2021-06-10'},\n",
    "])\n",
    "for t_col in ['ds', 'ds_upper']:\n",
    "    lockdowns[t_col] = pd.to_datetime(lockdowns[t_col])\n",
    "lockdowns['upper_window'] = (lockdowns['ds_upper'] - lockdowns['ds']).dt.days\n",
    "lockdowns"
   ],
   "id": "c110b41a47045128",
   "outputs": [],
   "execution_count": null
  },
  {
   "metadata": {},
   "cell_type": "code",
   "source": [
    "m2 = Prophet(holidays=lockdowns)\n",
    "m2 = m2.fit(df)\n",
    "future2 = m2.make_future_dataframe(periods=366)\n",
    "forecast2 = m2.predict(future2)"
   ],
   "id": "d631fc2b0ccb5593",
   "outputs": [],
   "execution_count": null
  },
  {
   "metadata": {},
   "cell_type": "code",
   "source": [
    "m2.plot(forecast2)\n",
    "plt.axhline(y=0, color='red')\n",
    "plt.title('Lockdowns as one-off holidays');\n",
    "plt.show()"
   ],
   "id": "be0aed85e7f6143d",
   "outputs": [],
   "execution_count": null
  },
  {
   "metadata": {},
   "cell_type": "code",
   "source": "",
   "id": "24364f60658ce90a",
   "outputs": [],
   "execution_count": null
  },
  {
   "metadata": {},
   "cell_type": "code",
   "source": [
    "m2.plot_components(forecast2);\n",
    "plt.show()"
   ],
   "id": "525bf500921edbb7",
   "outputs": [],
   "execution_count": null
  },
  {
   "metadata": {},
   "cell_type": "code",
   "source": [
    "from prophet.plot import add_changepoints_to_plot\n",
    "fig = m2.plot(forecast2)\n",
    "a = add_changepoints_to_plot(fig.gca(), m2, forecast2)\n",
    "plt.show()"
   ],
   "id": "69be02526029e7f2",
   "outputs": [],
   "execution_count": null
  },
  {
   "metadata": {},
   "cell_type": "code",
   "source": [
    "m3_changepoints = (\n",
    "    # 10 potential changepoints in 2.5 years\n",
    "    pd.date_range('2017-06-02', '2020-01-01', periods=10).date.tolist() + \n",
    "    # 15 potential changepoints in 1 year 2 months\n",
    "    pd.date_range('2020-02-01', '2021-04-01', periods=15).date.tolist()\n",
    ")\n",
    "# Default changepoint_prior_scale is 0.05, so 1.0 will lead to much more flexibility in comparison.\n",
    "m3 = Prophet(holidays=lockdowns, changepoints=m3_changepoints, changepoint_prior_scale=1.0)\n",
    "m3 = m3.fit(df)\n",
    "forecast3 = m3.predict(future2)"
   ],
   "id": "d834e35a878fe9c3",
   "outputs": [],
   "execution_count": null
  },
  {
   "metadata": {},
   "cell_type": "code",
   "source": [
    "from prophet.plot import add_changepoints_to_plot\n",
    "fig = m3.plot(forecast3)\n",
    "a = add_changepoints_to_plot(fig.gca(), m3, forecast3)\n",
    "plt.show()"
   ],
   "id": "ee2a93bfb61cca43",
   "outputs": [],
   "execution_count": null
  },
  {
   "metadata": {},
   "cell_type": "code",
   "source": [
    "df2 = df.copy()\n",
    "df2['pre_covid'] = pd.to_datetime(df2['ds']) < pd.to_datetime('2020-03-21')\n",
    "df2['post_covid'] = ~df2['pre_covid']"
   ],
   "id": "46c69179700e9ec4",
   "outputs": [],
   "execution_count": null
  },
  {
   "metadata": {},
   "cell_type": "code",
   "source": [
    "m4 = Prophet(holidays=lockdowns, weekly_seasonality=False)\n",
    "m4.add_seasonality(\n",
    "    name='weekly_pre_covid',\n",
    "    period=7,\n",
    "    fourier_order=3,\n",
    "    condition_name='pre_covid',\n",
    ")\n",
    "m4.add_seasonality(\n",
    "    name='weekly_post_covid',\n",
    "    period=7,\n",
    "    fourier_order=3,\n",
    "    condition_name='post_covid',\n",
    ");"
   ],
   "id": "d691bfa865e64590",
   "outputs": [],
   "execution_count": null
  },
  {
   "metadata": {},
   "cell_type": "code",
   "source": "m4 = m4.fit(df2)\n",
   "id": "6bd4ce2a656d82d0",
   "outputs": [],
   "execution_count": null
  },
  {
   "metadata": {},
   "cell_type": "code",
   "source": [
    "future4 = m4.make_future_dataframe(periods=366)\n",
    "future4['pre_covid'] = pd.to_datetime(future4['ds']) < pd.to_datetime('2020-03-21')\n",
    "future4['post_covid'] = ~future4['pre_covid']"
   ],
   "id": "9b0de217e9eee9d9",
   "outputs": [],
   "execution_count": null
  },
  {
   "metadata": {},
   "cell_type": "code",
   "source": "forecast4 = m4.predict(future4)",
   "id": "f1e4ffa8509fb7b8",
   "outputs": [],
   "execution_count": null
  },
  {
   "metadata": {},
   "cell_type": "code",
   "source": [
    "m4.plot(forecast4)\n",
    "plt.axhline(y=0, color='red')\n",
    "plt.title('Lockdowns as one-off holidays + Conditional weekly seasonality');\n",
    "plt.show()"
   ],
   "id": "9cd261824900ae65",
   "outputs": [],
   "execution_count": null
  },
  {
   "metadata": {},
   "cell_type": "code",
   "source": [
    "m4.plot_components(forecast4);\n",
    "plt.show()"
   ],
   "id": "4a164081d000e8d2",
   "outputs": [],
   "execution_count": null
  },
  {
   "metadata": {},
   "cell_type": "code",
   "source": [
    "from prophet.serialize import model_to_json, model_from_json\n",
    "\n",
    "with open('models/serialized_model.json', 'w') as fout:\n",
    "    fout.write(model_to_json(m))  # Save model\n",
    "\n",
    "with open('models/serialized_model.json', 'r') as fin:\n",
    "    m = model_from_json(fin.read())  # Load model"
   ],
   "id": "eb09d0d4a3f72691",
   "outputs": [],
   "execution_count": null
  }
 ],
 "metadata": {
  "kernelspec": {
   "display_name": "Python 3",
   "language": "python",
   "name": "python3"
  },
  "language_info": {
   "codemirror_mode": {
    "name": "ipython",
    "version": 2
   },
   "file_extension": ".py",
   "mimetype": "text/x-python",
   "name": "python",
   "nbconvert_exporter": "python",
   "pygments_lexer": "ipython2",
   "version": "2.7.6"
  }
 },
 "nbformat": 4,
 "nbformat_minor": 5
}
