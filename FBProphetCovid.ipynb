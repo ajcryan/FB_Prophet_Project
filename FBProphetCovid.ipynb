{
 "cells": [
  {
   "cell_type": "code",
   "execution_count": null,
   "id": "initial_id",
   "metadata": {
    "collapsed": true
   },
   "outputs": [],
   "source": [
    ""
   ]
  },
  {
   "metadata": {
    "ExecuteTime": {
     "end_time": "2024-10-21T05:20:22.511948Z",
     "start_time": "2024-10-21T05:20:21.885294Z"
    }
   },
   "cell_type": "code",
   "source": [
    "%matplotlib inline\n",
    "from prophet import Prophet\n",
    "import pandas as pd\n",
    "from matplotlib import pyplot as plt\n",
    "import logging\n",
    "logging.getLogger('prophet').setLevel(logging.ERROR)\n",
    "import warnings\n",
    "warnings.filterwarnings(\"ignore\")\n",
    "\n",
    "plt.rcParams['figure.figsize'] = 9, 6"
   ],
   "id": "5251e55bf94dad91",
   "outputs": [],
   "execution_count": 1
  },
  {
   "metadata": {
    "ExecuteTime": {
     "end_time": "2024-10-21T05:22:04.614102Z",
     "start_time": "2024-10-21T05:22:04.110340Z"
    }
   },
   "cell_type": "code",
   "source": [
    "df = pd.read_csv('https://raw.githubusercontent.com/facebook/prophet/main/examples/example_pedestrians_covid.csv')\n",
    "df.set_index('ds').plot()"
   ],
   "id": "d43f60b907a63a80",
   "outputs": [
    {
     "data": {
      "text/plain": [
       "<Axes: xlabel='ds'>"
      ]
     },
     "execution_count": 2,
     "metadata": {},
     "output_type": "execute_result"
    }
   ],
   "execution_count": 2
  },
  {
   "metadata": {
    "ExecuteTime": {
     "end_time": "2024-10-21T05:28:23.480478Z",
     "start_time": "2024-10-21T05:28:22.977148Z"
    }
   },
   "cell_type": "code",
   "source": [
    "m = Prophet()\n",
    "m = m.fit(df)\n",
    "future = m.make_future_dataframe(periods=366)\n",
    "forecast = m.predict(future)"
   ],
   "id": "5cc14f49623e9b80",
   "outputs": [
    {
     "name": "stderr",
     "output_type": "stream",
     "text": [
      "16:28:23 - cmdstanpy - INFO - Chain [1] start processing\n",
      "16:28:23 - cmdstanpy - INFO - Chain [1] done processing\n"
     ]
    }
   ],
   "execution_count": 3
  },
  {
   "metadata": {
    "ExecuteTime": {
     "end_time": "2024-10-21T05:28:29.824900Z",
     "start_time": "2024-10-21T05:28:29.747475Z"
    }
   },
   "cell_type": "code",
   "source": [
    "m.plot(forecast)\n",
    "plt.axhline(y=0, color='red')\n",
    "plt.title('Default Prophet');\n"
   ],
   "id": "f1ef382e8b61d86",
   "outputs": [],
   "execution_count": 4
  },
  {
   "metadata": {
    "ExecuteTime": {
     "end_time": "2024-10-21T05:28:43.355008Z",
     "start_time": "2024-10-21T05:28:43.201543Z"
    }
   },
   "cell_type": "code",
   "source": "m.plot_components(forecast);\n",
   "id": "c38a767389605327",
   "outputs": [],
   "execution_count": 5
  }
 ],
 "metadata": {
  "kernelspec": {
   "display_name": "Python 3",
   "language": "python",
   "name": "python3"
  },
  "language_info": {
   "codemirror_mode": {
    "name": "ipython",
    "version": 2
   },
   "file_extension": ".py",
   "mimetype": "text/x-python",
   "name": "python",
   "nbconvert_exporter": "python",
   "pygments_lexer": "ipython2",
   "version": "2.7.6"
  }
 },
 "nbformat": 4,
 "nbformat_minor": 5
}
