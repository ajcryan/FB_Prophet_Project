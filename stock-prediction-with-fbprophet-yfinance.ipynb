{
 "metadata": {
  "kernelspec": {
   "language": "python",
   "display_name": "Python 3",
   "name": "python3"
  },
  "language_info": {
   "pygments_lexer": "ipython3",
   "nbconvert_exporter": "python",
   "version": "3.6.4",
   "file_extension": ".py",
   "codemirror_mode": {
    "name": "ipython",
    "version": 3
   },
   "name": "python",
   "mimetype": "text/x-python"
  },
  "kaggle": {
   "accelerator": "none",
   "dataSources": [],
   "dockerImageVersionId": 30096,
   "isInternetEnabled": true,
   "language": "python",
   "sourceType": "notebook",
   "isGpuEnabled": false
  }
 },
 "nbformat_minor": 4,
 "nbformat": 4,
 "cells": [
  {
   "cell_type": "markdown",
   "source": "# Introduction\nSales forecasting is one the most common tasks in many sales driven organizations. This activity enables organizations to adequately plan for the future with a degree of confidence. In this tutorial we’ll use Prophet, a package developed by Facebook to show how one can achieve this. This package is available in both Python and R. We assume that the reader has basic understanding of handling time series data in Python. \n  ",
   "metadata": {
    "id": "NuH5jkBFv6jr"
   }
  },
  {
   "cell_type": "markdown",
   "source": "<p align=\"center\">\n  <img width=\"400\" height=\"300\" src=\"https://media3.giphy.com/media/JtBZm3Getg3dqxK0zP/giphy.gif\">\n</p>",
   "metadata": {}
  },
  {
   "cell_type": "markdown",
   "source": "# Structure\n\n* Downloading Data\n* EDA & Data Preprocessing\n* Model Fitting\n* Making Future Predictions\n* Obtaining the Forecasts\n* Plotting the Forecasts\n* Plotting the Forecast Components\n* Cross Validation\n* Obtaining the Performance Metrics\n* Visualizing Performance Metrics\n* Conclusion",
   "metadata": {}
  },
  {
   "cell_type": "markdown",
   "source": "# Importing",
   "metadata": {
    "id": "BGTZPBYmWte6"
   }
  },
  {
   "cell_type": "code",
   "source": [
    "# fbProphet\n",
    "!pip install pystan\n",
    "!pip install prophet\n",
    "from prophet import Prophet\n",
    "from prophet.plot import plot_plotly\n",
    "# Yahoo Finance\n",
    "!pip install yfinance\n",
    "import yfinance as yf \n",
    "# Others\n",
    "import pandas as pd\n",
    "from plotly import graph_objs as go\n",
    "from datetime import datetime"
   ],
   "metadata": {
    "id": "9QyqpVF1Y90i",
    "outputId": "79c481c7-f32b-4bdd-b8ae-3fce1899e15e",
    "trusted": true,
    "ExecuteTime": {
     "end_time": "2024-10-21T11:24:25.442464Z",
     "start_time": "2024-10-21T11:24:16.341429Z"
    }
   },
   "outputs": [
    {
     "name": "stdout",
     "output_type": "stream",
     "text": [
      "Collecting pystan\r\n",
      "  Using cached pystan-3.10.0-py3-none-any.whl.metadata (3.7 kB)\r\n",
      "Collecting aiohttp<4.0,>=3.6 (from pystan)\r\n",
      "  Using cached aiohttp-3.10.10-cp312-cp312-macosx_11_0_arm64.whl.metadata (7.6 kB)\r\n",
      "Collecting clikit<0.7,>=0.6 (from pystan)\r\n",
      "  Using cached clikit-0.6.2-py2.py3-none-any.whl.metadata (1.6 kB)\r\n",
      "INFO: pip is looking at multiple versions of pystan to determine which version is compatible with other requirements. This could take a while.\r\n",
      "Collecting pystan\r\n",
      "  Using cached pystan-3.9.1-py3-none-any.whl.metadata (3.7 kB)\r\n",
      "  Using cached pystan-3.9.0-py3-none-any.whl.metadata (3.7 kB)\r\n",
      "  Using cached pystan-3.8.0-py3-none-any.whl.metadata (3.8 kB)\r\n",
      "  Using cached pystan-3.7.0-py3-none-any.whl.metadata (3.7 kB)\r\n",
      "  Using cached pystan-3.6.0-py3-none-any.whl.metadata (3.7 kB)\r\n",
      "  Using cached pystan-3.5.0-py3-none-any.whl.metadata (3.7 kB)\r\n",
      "  Using cached pystan-3.4.0-py3-none-any.whl.metadata (3.7 kB)\r\n",
      "INFO: pip is still looking at multiple versions of pystan to determine which version is compatible with other requirements. This could take a while.\r\n",
      "  Using cached pystan-3.3.0-py3-none-any.whl.metadata (3.6 kB)\r\n",
      "  Using cached pystan-3.2.0-py3-none-any.whl.metadata (3.6 kB)\r\n",
      "  Using cached pystan-3.1.1-py3-none-any.whl.metadata (3.6 kB)\r\n",
      "  Using cached pystan-3.1.0-py3-none-any.whl.metadata (3.6 kB)\r\n",
      "  Using cached pystan-3.0.2-py3-none-any.whl.metadata (3.6 kB)\r\n",
      "INFO: This is taking longer than usual. You might need to provide the dependency resolver with stricter constraints to reduce runtime. See https://pip.pypa.io/warnings/backtracking for guidance. If you want to abort this run, press Ctrl + C.\r\n",
      "  Using cached pystan-3.0.1-py3-none-any.whl.metadata (3.6 kB)\r\n",
      "  Using cached pystan-3.0.0-py3-none-any.whl.metadata (3.6 kB)\r\n",
      "  Using cached pystan-2.19.1.1.tar.gz (16.2 MB)\r\n",
      "  Preparing metadata (setup.py) ... \u001B[?25ldone\r\n",
      "\u001B[?25hCollecting Cython!=0.25.1,>=0.22 (from pystan)\r\n",
      "  Using cached Cython-3.0.11-py2.py3-none-any.whl.metadata (3.2 kB)\r\n",
      "Requirement already satisfied: numpy>=1.7 in /Users/jamie/miniconda3/lib/python3.12/site-packages (from pystan) (1.26.4)\r\n",
      "Using cached Cython-3.0.11-py2.py3-none-any.whl (1.2 MB)\r\n",
      "Building wheels for collected packages: pystan\r\n",
      "  Building wheel for pystan (setup.py) ... \u001B[?25lerror\r\n",
      "  \u001B[1;31merror\u001B[0m: \u001B[1msubprocess-exited-with-error\u001B[0m\r\n",
      "  \r\n",
      "  \u001B[31m×\u001B[0m \u001B[32mpython setup.py bdist_wheel\u001B[0m did not run successfully.\r\n",
      "  \u001B[31m│\u001B[0m exit code: \u001B[1;36m1\u001B[0m\r\n",
      "  \u001B[31m╰─>\u001B[0m \u001B[31m[3 lines of output]\u001B[0m\r\n",
      "  \u001B[31m   \u001B[0m /private/var/folders/4r/wqxw4b791_n7w6sbl4jpy3rm0000gn/T/pip-install-w8szl4kb/pystan_463809096e3c42ceb735c2e0367ce8a7/setup.py:61: DeprecationWarning: Attribute s is deprecated and will be removed in Python 3.14; use value instead\r\n",
      "  \u001B[31m   \u001B[0m   self.version = node.value.s\r\n",
      "  \u001B[31m   \u001B[0m Cython>=0.22 and NumPy are required.\r\n",
      "  \u001B[31m   \u001B[0m \u001B[31m[end of output]\u001B[0m\r\n",
      "  \r\n",
      "  \u001B[1;35mnote\u001B[0m: This error originates from a subprocess, and is likely not a problem with pip.\r\n",
      "\u001B[31m  ERROR: Failed building wheel for pystan\u001B[0m\u001B[31m\r\n",
      "\u001B[0m\u001B[?25h  Running setup.py clean for pystan\r\n",
      "Failed to build pystan\r\n",
      "\u001B[31mERROR: Could not build wheels for pystan, which is required to install pyproject.toml-based projects\u001B[0m\u001B[31m\r\n",
      "\u001B[0mRequirement already satisfied: prophet in /Users/jamie/miniconda3/lib/python3.12/site-packages (1.1.5)\r\n",
      "Requirement already satisfied: cmdstanpy>=1.0.4 in /Users/jamie/miniconda3/lib/python3.12/site-packages (from prophet) (1.1.0)\r\n",
      "Requirement already satisfied: numpy>=1.15.4 in /Users/jamie/miniconda3/lib/python3.12/site-packages (from prophet) (1.26.4)\r\n",
      "Requirement already satisfied: matplotlib>=2.0.0 in /Users/jamie/miniconda3/lib/python3.12/site-packages (from prophet) (3.9.2)\r\n",
      "Requirement already satisfied: pandas>=1.0.4 in /Users/jamie/miniconda3/lib/python3.12/site-packages (from prophet) (2.2.2)\r\n",
      "Requirement already satisfied: holidays>=0.25 in /Users/jamie/miniconda3/lib/python3.12/site-packages (from prophet) (0.48)\r\n",
      "Requirement already satisfied: tqdm>=4.36.1 in /Users/jamie/miniconda3/lib/python3.12/site-packages (from prophet) (4.65.0)\r\n",
      "Requirement already satisfied: importlib-resources in /Users/jamie/miniconda3/lib/python3.12/site-packages (from prophet) (6.4.0)\r\n",
      "Requirement already satisfied: python-dateutil in /Users/jamie/miniconda3/lib/python3.12/site-packages (from holidays>=0.25->prophet) (2.9.0.post0)\r\n",
      "Requirement already satisfied: contourpy>=1.0.1 in /Users/jamie/miniconda3/lib/python3.12/site-packages (from matplotlib>=2.0.0->prophet) (1.2.0)\r\n",
      "Requirement already satisfied: cycler>=0.10 in /Users/jamie/miniconda3/lib/python3.12/site-packages (from matplotlib>=2.0.0->prophet) (0.11.0)\r\n",
      "Requirement already satisfied: fonttools>=4.22.0 in /Users/jamie/miniconda3/lib/python3.12/site-packages (from matplotlib>=2.0.0->prophet) (4.51.0)\r\n",
      "Requirement already satisfied: kiwisolver>=1.3.1 in /Users/jamie/miniconda3/lib/python3.12/site-packages (from matplotlib>=2.0.0->prophet) (1.4.4)\r\n",
      "Requirement already satisfied: packaging>=20.0 in /Users/jamie/miniconda3/lib/python3.12/site-packages (from matplotlib>=2.0.0->prophet) (23.2)\r\n",
      "Requirement already satisfied: pillow>=8 in /Users/jamie/miniconda3/lib/python3.12/site-packages (from matplotlib>=2.0.0->prophet) (10.4.0)\r\n",
      "Requirement already satisfied: pyparsing>=2.3.1 in /Users/jamie/miniconda3/lib/python3.12/site-packages (from matplotlib>=2.0.0->prophet) (3.1.2)\r\n",
      "Requirement already satisfied: pytz>=2020.1 in /Users/jamie/miniconda3/lib/python3.12/site-packages (from pandas>=1.0.4->prophet) (2024.1)\r\n",
      "Requirement already satisfied: tzdata>=2022.7 in /Users/jamie/miniconda3/lib/python3.12/site-packages (from pandas>=1.0.4->prophet) (2023.3)\r\n",
      "Requirement already satisfied: six>=1.5 in /Users/jamie/miniconda3/lib/python3.12/site-packages (from python-dateutil->holidays>=0.25->prophet) (1.16.0)\r\n",
      "Requirement already satisfied: yfinance in /Users/jamie/miniconda3/lib/python3.12/site-packages (0.2.45)\r\n",
      "Requirement already satisfied: pandas>=1.3.0 in /Users/jamie/miniconda3/lib/python3.12/site-packages (from yfinance) (2.2.2)\r\n",
      "Requirement already satisfied: numpy>=1.16.5 in /Users/jamie/miniconda3/lib/python3.12/site-packages (from yfinance) (1.26.4)\r\n",
      "Requirement already satisfied: requests>=2.31 in /Users/jamie/miniconda3/lib/python3.12/site-packages (from yfinance) (2.31.0)\r\n",
      "Requirement already satisfied: multitasking>=0.0.7 in /Users/jamie/miniconda3/lib/python3.12/site-packages (from yfinance) (0.0.11)\r\n",
      "Requirement already satisfied: lxml>=4.9.1 in /Users/jamie/miniconda3/lib/python3.12/site-packages (from yfinance) (5.3.0)\r\n",
      "Requirement already satisfied: platformdirs>=2.0.0 in /Users/jamie/miniconda3/lib/python3.12/site-packages (from yfinance) (3.10.0)\r\n",
      "Requirement already satisfied: pytz>=2022.5 in /Users/jamie/miniconda3/lib/python3.12/site-packages (from yfinance) (2024.1)\r\n",
      "Requirement already satisfied: frozendict>=2.3.4 in /Users/jamie/miniconda3/lib/python3.12/site-packages (from yfinance) (2.4.2)\r\n",
      "Requirement already satisfied: peewee>=3.16.2 in /Users/jamie/miniconda3/lib/python3.12/site-packages (from yfinance) (3.17.7)\r\n",
      "Requirement already satisfied: beautifulsoup4>=4.11.1 in /Users/jamie/miniconda3/lib/python3.12/site-packages (from yfinance) (4.12.3)\r\n",
      "Requirement already satisfied: html5lib>=1.1 in /Users/jamie/miniconda3/lib/python3.12/site-packages (from yfinance) (1.1)\r\n",
      "Requirement already satisfied: soupsieve>1.2 in /Users/jamie/miniconda3/lib/python3.12/site-packages (from beautifulsoup4>=4.11.1->yfinance) (2.5)\r\n",
      "Requirement already satisfied: six>=1.9 in /Users/jamie/miniconda3/lib/python3.12/site-packages (from html5lib>=1.1->yfinance) (1.16.0)\r\n",
      "Requirement already satisfied: webencodings in /Users/jamie/miniconda3/lib/python3.12/site-packages (from html5lib>=1.1->yfinance) (0.5.1)\r\n",
      "Requirement already satisfied: python-dateutil>=2.8.2 in /Users/jamie/miniconda3/lib/python3.12/site-packages (from pandas>=1.3.0->yfinance) (2.9.0.post0)\r\n",
      "Requirement already satisfied: tzdata>=2022.7 in /Users/jamie/miniconda3/lib/python3.12/site-packages (from pandas>=1.3.0->yfinance) (2023.3)\r\n",
      "Requirement already satisfied: charset-normalizer<4,>=2 in /Users/jamie/miniconda3/lib/python3.12/site-packages (from requests>=2.31->yfinance) (2.0.4)\r\n",
      "Requirement already satisfied: idna<4,>=2.5 in /Users/jamie/miniconda3/lib/python3.12/site-packages (from requests>=2.31->yfinance) (3.4)\r\n",
      "Requirement already satisfied: urllib3<3,>=1.21.1 in /Users/jamie/miniconda3/lib/python3.12/site-packages (from requests>=2.31->yfinance) (2.1.0)\r\n",
      "Requirement already satisfied: certifi>=2017.4.17 in /Users/jamie/miniconda3/lib/python3.12/site-packages (from requests>=2.31->yfinance) (2024.8.30)\r\n"
     ]
    }
   ],
   "execution_count": 2
  },
  {
   "cell_type": "markdown",
   "source": "## Selecting a stock",
   "metadata": {
    "id": "-3M72-J6bRFD"
   }
  },
  {
   "cell_type": "code",
   "source": "ySymbol=\"GOOG\"",
   "metadata": {
    "id": "QyC6MmYIa-81",
    "trusted": true,
    "ExecuteTime": {
     "end_time": "2024-10-21T11:24:26.472188Z",
     "start_time": "2024-10-21T11:24:26.469213Z"
    }
   },
   "outputs": [],
   "execution_count": 3
  },
  {
   "cell_type": "markdown",
   "source": "## Downloading Data From yfinance",
   "metadata": {
    "id": "iX1v9h0ZaSXi"
   }
  },
  {
   "cell_type": "code",
   "source": "#for SymbolName in stocksymbols:\ndata = yf.download(\n    # tickers list or string as well\n    tickers = ySymbol,\n    # use \"period\" instead of start/end\n    # valid periods: 1d,5d,1mo,3mo,6mo,1y,2y,5y,10y,ytd,max\n    # (optional, default is '1mo')\n    period = \"2y\",\n    # fetch data by interval (including intraday if period < 60 days)\n    # valid intervals: 1m,2m,5m,15m,30m,60m,90m,1h,1d,5d,1wk,1mo,3mo\n    # (optional, default is '1d')\n    interval = \"1d\",\n    # group by ticker (to access via data['SPY'])\n    # (optional, default is 'column')\n    group_by = 'ticker',\n    # adjust all OHLC(An open-high-low-close chart is a type of chart typically used to illustrate movements in the price of a financial instrument over time) automatically\n    # (optional, default is False)\n    auto_adjust = True,\n    # download pre/post regular market hours data\n    # (optional, default is False)\n    prepost = True\n    )",
   "metadata": {
    "id": "ZYq8FTp2Zn8C",
    "outputId": "295a9231-58e5-4f1b-fce9-45c69587bf36",
    "trusted": true,
    "ExecuteTime": {
     "end_time": "2024-10-21T11:24:33.507071Z",
     "start_time": "2024-10-21T11:24:32.959285Z"
    }
   },
   "outputs": [
    {
     "name": "stderr",
     "output_type": "stream",
     "text": [
      "[*********************100%***********************]  1 of 1 completed\n"
     ]
    }
   ],
   "execution_count": 4
  },
  {
   "cell_type": "code",
   "source": "data",
   "metadata": {
    "id": "BVtDK5wgbETf",
    "outputId": "c73e7e35-adad-417a-f51b-484a5415d4e0",
    "trusted": true,
    "ExecuteTime": {
     "end_time": "2024-10-21T11:24:35.938211Z",
     "start_time": "2024-10-21T11:24:35.928207Z"
    }
   },
   "outputs": [
    {
     "data": {
      "text/plain": [
       "Ticker                           GOOG                                      \\\n",
       "Price                            Open        High         Low       Close   \n",
       "Date                                                                        \n",
       "2022-10-21 00:00:00+00:00   98.218794  101.371056   97.989361  101.231400   \n",
       "2022-10-24 00:00:00+00:00  101.839894  102.847422  100.054286  102.717743   \n",
       "2022-10-25 00:00:00+00:00  103.046939  104.842525  102.767619  104.672943   \n",
       "2022-10-26 00:00:00+00:00   96.522957   98.298595   94.338320   94.587708   \n",
       "2022-10-27 00:00:00+00:00   94.078956   94.936850   91.674864   92.373146   \n",
       "...                               ...         ...         ...         ...   \n",
       "2024-10-14 00:00:00+00:00  164.910004  167.619995  164.779999  166.350006   \n",
       "2024-10-15 00:00:00+00:00  167.139999  169.089996  166.050003  166.899994   \n",
       "2024-10-16 00:00:00+00:00  166.029999  167.279999  165.216003  166.740005   \n",
       "2024-10-17 00:00:00+00:00  167.380005  167.929993  164.369995  164.509995   \n",
       "2024-10-18 00:00:00+00:00  164.869995  166.369995  164.750000  165.050003   \n",
       "\n",
       "Ticker                               \n",
       "Price                        Volume  \n",
       "Date                                 \n",
       "2022-10-21 00:00:00+00:00  28988700  \n",
       "2022-10-24 00:00:00+00:00  24680800  \n",
       "2022-10-25 00:00:00+00:00  29910200  \n",
       "2022-10-26 00:00:00+00:00  71504300  \n",
       "2022-10-27 00:00:00+00:00  54036500  \n",
       "...                             ...  \n",
       "2024-10-14 00:00:00+00:00   9981800  \n",
       "2024-10-15 00:00:00+00:00  14829300  \n",
       "2024-10-16 00:00:00+00:00   9968500  \n",
       "2024-10-17 00:00:00+00:00  15113400  \n",
       "2024-10-18 00:00:00+00:00  13086900  \n",
       "\n",
       "[501 rows x 5 columns]"
      ],
      "text/html": [
       "<div>\n",
       "<style scoped>\n",
       "    .dataframe tbody tr th:only-of-type {\n",
       "        vertical-align: middle;\n",
       "    }\n",
       "\n",
       "    .dataframe tbody tr th {\n",
       "        vertical-align: top;\n",
       "    }\n",
       "\n",
       "    .dataframe thead tr th {\n",
       "        text-align: left;\n",
       "    }\n",
       "\n",
       "    .dataframe thead tr:last-of-type th {\n",
       "        text-align: right;\n",
       "    }\n",
       "</style>\n",
       "<table border=\"1\" class=\"dataframe\">\n",
       "  <thead>\n",
       "    <tr>\n",
       "      <th>Ticker</th>\n",
       "      <th colspan=\"5\" halign=\"left\">GOOG</th>\n",
       "    </tr>\n",
       "    <tr>\n",
       "      <th>Price</th>\n",
       "      <th>Open</th>\n",
       "      <th>High</th>\n",
       "      <th>Low</th>\n",
       "      <th>Close</th>\n",
       "      <th>Volume</th>\n",
       "    </tr>\n",
       "    <tr>\n",
       "      <th>Date</th>\n",
       "      <th></th>\n",
       "      <th></th>\n",
       "      <th></th>\n",
       "      <th></th>\n",
       "      <th></th>\n",
       "    </tr>\n",
       "  </thead>\n",
       "  <tbody>\n",
       "    <tr>\n",
       "      <th>2022-10-21 00:00:00+00:00</th>\n",
       "      <td>98.218794</td>\n",
       "      <td>101.371056</td>\n",
       "      <td>97.989361</td>\n",
       "      <td>101.231400</td>\n",
       "      <td>28988700</td>\n",
       "    </tr>\n",
       "    <tr>\n",
       "      <th>2022-10-24 00:00:00+00:00</th>\n",
       "      <td>101.839894</td>\n",
       "      <td>102.847422</td>\n",
       "      <td>100.054286</td>\n",
       "      <td>102.717743</td>\n",
       "      <td>24680800</td>\n",
       "    </tr>\n",
       "    <tr>\n",
       "      <th>2022-10-25 00:00:00+00:00</th>\n",
       "      <td>103.046939</td>\n",
       "      <td>104.842525</td>\n",
       "      <td>102.767619</td>\n",
       "      <td>104.672943</td>\n",
       "      <td>29910200</td>\n",
       "    </tr>\n",
       "    <tr>\n",
       "      <th>2022-10-26 00:00:00+00:00</th>\n",
       "      <td>96.522957</td>\n",
       "      <td>98.298595</td>\n",
       "      <td>94.338320</td>\n",
       "      <td>94.587708</td>\n",
       "      <td>71504300</td>\n",
       "    </tr>\n",
       "    <tr>\n",
       "      <th>2022-10-27 00:00:00+00:00</th>\n",
       "      <td>94.078956</td>\n",
       "      <td>94.936850</td>\n",
       "      <td>91.674864</td>\n",
       "      <td>92.373146</td>\n",
       "      <td>54036500</td>\n",
       "    </tr>\n",
       "    <tr>\n",
       "      <th>...</th>\n",
       "      <td>...</td>\n",
       "      <td>...</td>\n",
       "      <td>...</td>\n",
       "      <td>...</td>\n",
       "      <td>...</td>\n",
       "    </tr>\n",
       "    <tr>\n",
       "      <th>2024-10-14 00:00:00+00:00</th>\n",
       "      <td>164.910004</td>\n",
       "      <td>167.619995</td>\n",
       "      <td>164.779999</td>\n",
       "      <td>166.350006</td>\n",
       "      <td>9981800</td>\n",
       "    </tr>\n",
       "    <tr>\n",
       "      <th>2024-10-15 00:00:00+00:00</th>\n",
       "      <td>167.139999</td>\n",
       "      <td>169.089996</td>\n",
       "      <td>166.050003</td>\n",
       "      <td>166.899994</td>\n",
       "      <td>14829300</td>\n",
       "    </tr>\n",
       "    <tr>\n",
       "      <th>2024-10-16 00:00:00+00:00</th>\n",
       "      <td>166.029999</td>\n",
       "      <td>167.279999</td>\n",
       "      <td>165.216003</td>\n",
       "      <td>166.740005</td>\n",
       "      <td>9968500</td>\n",
       "    </tr>\n",
       "    <tr>\n",
       "      <th>2024-10-17 00:00:00+00:00</th>\n",
       "      <td>167.380005</td>\n",
       "      <td>167.929993</td>\n",
       "      <td>164.369995</td>\n",
       "      <td>164.509995</td>\n",
       "      <td>15113400</td>\n",
       "    </tr>\n",
       "    <tr>\n",
       "      <th>2024-10-18 00:00:00+00:00</th>\n",
       "      <td>164.869995</td>\n",
       "      <td>166.369995</td>\n",
       "      <td>164.750000</td>\n",
       "      <td>165.050003</td>\n",
       "      <td>13086900</td>\n",
       "    </tr>\n",
       "  </tbody>\n",
       "</table>\n",
       "<p>501 rows × 5 columns</p>\n",
       "</div>"
      ]
     },
     "execution_count": 5,
     "metadata": {},
     "output_type": "execute_result"
    }
   ],
   "execution_count": 5
  },
  {
   "cell_type": "markdown",
   "source": "## Resetting Index",
   "metadata": {
    "id": "MsSvmvimckqo"
   }
  },
  {
   "cell_type": "code",
   "source": "data.reset_index(inplace=True)",
   "metadata": {
    "id": "NvxH_CbpcjuT",
    "trusted": true,
    "ExecuteTime": {
     "end_time": "2024-10-21T11:24:41.069030Z",
     "start_time": "2024-10-21T11:24:41.065356Z"
    }
   },
   "outputs": [],
   "execution_count": 6
  },
  {
   "cell_type": "markdown",
   "source": "# EDA & Data Preprocessing",
   "metadata": {
    "id": "TPevI7fMxFsh"
   }
  },
  {
   "cell_type": "markdown",
   "source": "## Plotting the Raw Data",
   "metadata": {
    "id": "pSMXE17FcDlz"
   }
  },
  {
   "cell_type": "code",
   "source": "import plotly.offline as py",
   "metadata": {
    "id": "0qeH0NMPe5Hx",
    "trusted": true,
    "ExecuteTime": {
     "end_time": "2024-10-21T11:25:01.598231Z",
     "start_time": "2024-10-21T11:25:01.595520Z"
    }
   },
   "outputs": [],
   "execution_count": 8
  },
  {
   "cell_type": "code",
   "source": "py.iplot([go.Scatter(\n    x=data['Date'],\n    y=data['Close']\n)])",
   "metadata": {
    "id": "-r4S18VSfR5H",
    "outputId": "b11d5945-0c8e-4bf7-82a5-49f0ec351aa0",
    "trusted": true,
    "ExecuteTime": {
     "end_time": "2024-10-21T11:25:04.144448Z",
     "start_time": "2024-10-21T11:25:03.306940Z"
    }
   },
   "outputs": [
    {
     "ename": "KeyError",
     "evalue": "'Close'",
     "output_type": "error",
     "traceback": [
      "\u001B[0;31m---------------------------------------------------------------------------\u001B[0m",
      "\u001B[0;31mKeyError\u001B[0m                                  Traceback (most recent call last)",
      "File \u001B[0;32m~/miniconda3/lib/python3.12/site-packages/pandas/core/indexes/base.py:3805\u001B[0m, in \u001B[0;36mIndex.get_loc\u001B[0;34m(self, key)\u001B[0m\n\u001B[1;32m   3804\u001B[0m \u001B[38;5;28;01mtry\u001B[39;00m:\n\u001B[0;32m-> 3805\u001B[0m     \u001B[38;5;28;01mreturn\u001B[39;00m \u001B[38;5;28mself\u001B[39m\u001B[38;5;241m.\u001B[39m_engine\u001B[38;5;241m.\u001B[39mget_loc(casted_key)\n\u001B[1;32m   3806\u001B[0m \u001B[38;5;28;01mexcept\u001B[39;00m \u001B[38;5;167;01mKeyError\u001B[39;00m \u001B[38;5;28;01mas\u001B[39;00m err:\n",
      "File \u001B[0;32mindex.pyx:167\u001B[0m, in \u001B[0;36mpandas._libs.index.IndexEngine.get_loc\u001B[0;34m()\u001B[0m\n",
      "File \u001B[0;32mindex.pyx:196\u001B[0m, in \u001B[0;36mpandas._libs.index.IndexEngine.get_loc\u001B[0;34m()\u001B[0m\n",
      "File \u001B[0;32mpandas/_libs/hashtable_class_helper.pxi:7081\u001B[0m, in \u001B[0;36mpandas._libs.hashtable.PyObjectHashTable.get_item\u001B[0;34m()\u001B[0m\n",
      "File \u001B[0;32mpandas/_libs/hashtable_class_helper.pxi:7089\u001B[0m, in \u001B[0;36mpandas._libs.hashtable.PyObjectHashTable.get_item\u001B[0;34m()\u001B[0m\n",
      "\u001B[0;31mKeyError\u001B[0m: 'Close'",
      "\nThe above exception was the direct cause of the following exception:\n",
      "\u001B[0;31mKeyError\u001B[0m                                  Traceback (most recent call last)",
      "Cell \u001B[0;32mIn[9], line 3\u001B[0m\n\u001B[1;32m      1\u001B[0m py\u001B[38;5;241m.\u001B[39miplot([go\u001B[38;5;241m.\u001B[39mScatter(\n\u001B[1;32m      2\u001B[0m     x\u001B[38;5;241m=\u001B[39mdata[\u001B[38;5;124m'\u001B[39m\u001B[38;5;124mDate\u001B[39m\u001B[38;5;124m'\u001B[39m],\n\u001B[0;32m----> 3\u001B[0m     y\u001B[38;5;241m=\u001B[39mdata[\u001B[38;5;124m'\u001B[39m\u001B[38;5;124mClose\u001B[39m\u001B[38;5;124m'\u001B[39m]\n\u001B[1;32m      4\u001B[0m )])\n",
      "File \u001B[0;32m~/miniconda3/lib/python3.12/site-packages/pandas/core/frame.py:4101\u001B[0m, in \u001B[0;36mDataFrame.__getitem__\u001B[0;34m(self, key)\u001B[0m\n\u001B[1;32m   4099\u001B[0m \u001B[38;5;28;01mif\u001B[39;00m is_single_key:\n\u001B[1;32m   4100\u001B[0m     \u001B[38;5;28;01mif\u001B[39;00m \u001B[38;5;28mself\u001B[39m\u001B[38;5;241m.\u001B[39mcolumns\u001B[38;5;241m.\u001B[39mnlevels \u001B[38;5;241m>\u001B[39m \u001B[38;5;241m1\u001B[39m:\n\u001B[0;32m-> 4101\u001B[0m         \u001B[38;5;28;01mreturn\u001B[39;00m \u001B[38;5;28mself\u001B[39m\u001B[38;5;241m.\u001B[39m_getitem_multilevel(key)\n\u001B[1;32m   4102\u001B[0m     indexer \u001B[38;5;241m=\u001B[39m \u001B[38;5;28mself\u001B[39m\u001B[38;5;241m.\u001B[39mcolumns\u001B[38;5;241m.\u001B[39mget_loc(key)\n\u001B[1;32m   4103\u001B[0m     \u001B[38;5;28;01mif\u001B[39;00m is_integer(indexer):\n",
      "File \u001B[0;32m~/miniconda3/lib/python3.12/site-packages/pandas/core/frame.py:4159\u001B[0m, in \u001B[0;36mDataFrame._getitem_multilevel\u001B[0;34m(self, key)\u001B[0m\n\u001B[1;32m   4157\u001B[0m \u001B[38;5;28;01mdef\u001B[39;00m \u001B[38;5;21m_getitem_multilevel\u001B[39m(\u001B[38;5;28mself\u001B[39m, key):\n\u001B[1;32m   4158\u001B[0m     \u001B[38;5;66;03m# self.columns is a MultiIndex\u001B[39;00m\n\u001B[0;32m-> 4159\u001B[0m     loc \u001B[38;5;241m=\u001B[39m \u001B[38;5;28mself\u001B[39m\u001B[38;5;241m.\u001B[39mcolumns\u001B[38;5;241m.\u001B[39mget_loc(key)\n\u001B[1;32m   4160\u001B[0m     \u001B[38;5;28;01mif\u001B[39;00m \u001B[38;5;28misinstance\u001B[39m(loc, (\u001B[38;5;28mslice\u001B[39m, np\u001B[38;5;241m.\u001B[39mndarray)):\n\u001B[1;32m   4161\u001B[0m         new_columns \u001B[38;5;241m=\u001B[39m \u001B[38;5;28mself\u001B[39m\u001B[38;5;241m.\u001B[39mcolumns[loc]\n",
      "File \u001B[0;32m~/miniconda3/lib/python3.12/site-packages/pandas/core/indexes/multi.py:3040\u001B[0m, in \u001B[0;36mMultiIndex.get_loc\u001B[0;34m(self, key)\u001B[0m\n\u001B[1;32m   3037\u001B[0m     \u001B[38;5;28;01mreturn\u001B[39;00m mask\n\u001B[1;32m   3039\u001B[0m \u001B[38;5;28;01mif\u001B[39;00m \u001B[38;5;129;01mnot\u001B[39;00m \u001B[38;5;28misinstance\u001B[39m(key, \u001B[38;5;28mtuple\u001B[39m):\n\u001B[0;32m-> 3040\u001B[0m     loc \u001B[38;5;241m=\u001B[39m \u001B[38;5;28mself\u001B[39m\u001B[38;5;241m.\u001B[39m_get_level_indexer(key, level\u001B[38;5;241m=\u001B[39m\u001B[38;5;241m0\u001B[39m)\n\u001B[1;32m   3041\u001B[0m     \u001B[38;5;28;01mreturn\u001B[39;00m _maybe_to_slice(loc)\n\u001B[1;32m   3043\u001B[0m keylen \u001B[38;5;241m=\u001B[39m \u001B[38;5;28mlen\u001B[39m(key)\n",
      "File \u001B[0;32m~/miniconda3/lib/python3.12/site-packages/pandas/core/indexes/multi.py:3391\u001B[0m, in \u001B[0;36mMultiIndex._get_level_indexer\u001B[0;34m(self, key, level, indexer)\u001B[0m\n\u001B[1;32m   3388\u001B[0m         \u001B[38;5;28;01mreturn\u001B[39;00m \u001B[38;5;28mslice\u001B[39m(i, j, step)\n\u001B[1;32m   3390\u001B[0m \u001B[38;5;28;01melse\u001B[39;00m:\n\u001B[0;32m-> 3391\u001B[0m     idx \u001B[38;5;241m=\u001B[39m \u001B[38;5;28mself\u001B[39m\u001B[38;5;241m.\u001B[39m_get_loc_single_level_index(level_index, key)\n\u001B[1;32m   3393\u001B[0m     \u001B[38;5;28;01mif\u001B[39;00m level \u001B[38;5;241m>\u001B[39m \u001B[38;5;241m0\u001B[39m \u001B[38;5;129;01mor\u001B[39;00m \u001B[38;5;28mself\u001B[39m\u001B[38;5;241m.\u001B[39m_lexsort_depth \u001B[38;5;241m==\u001B[39m \u001B[38;5;241m0\u001B[39m:\n\u001B[1;32m   3394\u001B[0m         \u001B[38;5;66;03m# Desired level is not sorted\u001B[39;00m\n\u001B[1;32m   3395\u001B[0m         \u001B[38;5;28;01mif\u001B[39;00m \u001B[38;5;28misinstance\u001B[39m(idx, \u001B[38;5;28mslice\u001B[39m):\n\u001B[1;32m   3396\u001B[0m             \u001B[38;5;66;03m# test_get_loc_partial_timestamp_multiindex\u001B[39;00m\n",
      "File \u001B[0;32m~/miniconda3/lib/python3.12/site-packages/pandas/core/indexes/multi.py:2980\u001B[0m, in \u001B[0;36mMultiIndex._get_loc_single_level_index\u001B[0;34m(self, level_index, key)\u001B[0m\n\u001B[1;32m   2978\u001B[0m     \u001B[38;5;28;01mreturn\u001B[39;00m \u001B[38;5;241m-\u001B[39m\u001B[38;5;241m1\u001B[39m\n\u001B[1;32m   2979\u001B[0m \u001B[38;5;28;01melse\u001B[39;00m:\n\u001B[0;32m-> 2980\u001B[0m     \u001B[38;5;28;01mreturn\u001B[39;00m level_index\u001B[38;5;241m.\u001B[39mget_loc(key)\n",
      "File \u001B[0;32m~/miniconda3/lib/python3.12/site-packages/pandas/core/indexes/base.py:3812\u001B[0m, in \u001B[0;36mIndex.get_loc\u001B[0;34m(self, key)\u001B[0m\n\u001B[1;32m   3807\u001B[0m     \u001B[38;5;28;01mif\u001B[39;00m \u001B[38;5;28misinstance\u001B[39m(casted_key, \u001B[38;5;28mslice\u001B[39m) \u001B[38;5;129;01mor\u001B[39;00m (\n\u001B[1;32m   3808\u001B[0m         \u001B[38;5;28misinstance\u001B[39m(casted_key, abc\u001B[38;5;241m.\u001B[39mIterable)\n\u001B[1;32m   3809\u001B[0m         \u001B[38;5;129;01mand\u001B[39;00m \u001B[38;5;28many\u001B[39m(\u001B[38;5;28misinstance\u001B[39m(x, \u001B[38;5;28mslice\u001B[39m) \u001B[38;5;28;01mfor\u001B[39;00m x \u001B[38;5;129;01min\u001B[39;00m casted_key)\n\u001B[1;32m   3810\u001B[0m     ):\n\u001B[1;32m   3811\u001B[0m         \u001B[38;5;28;01mraise\u001B[39;00m InvalidIndexError(key)\n\u001B[0;32m-> 3812\u001B[0m     \u001B[38;5;28;01mraise\u001B[39;00m \u001B[38;5;167;01mKeyError\u001B[39;00m(key) \u001B[38;5;28;01mfrom\u001B[39;00m \u001B[38;5;21;01merr\u001B[39;00m\n\u001B[1;32m   3813\u001B[0m \u001B[38;5;28;01mexcept\u001B[39;00m \u001B[38;5;167;01mTypeError\u001B[39;00m:\n\u001B[1;32m   3814\u001B[0m     \u001B[38;5;66;03m# If we have a listlike key, _check_indexing_error will raise\u001B[39;00m\n\u001B[1;32m   3815\u001B[0m     \u001B[38;5;66;03m#  InvalidIndexError. Otherwise we fall through and re-raise\u001B[39;00m\n\u001B[1;32m   3816\u001B[0m     \u001B[38;5;66;03m#  the TypeError.\u001B[39;00m\n\u001B[1;32m   3817\u001B[0m     \u001B[38;5;28mself\u001B[39m\u001B[38;5;241m.\u001B[39m_check_indexing_error(key)\n",
      "\u001B[0;31mKeyError\u001B[0m: 'Close'"
     ]
    }
   ],
   "execution_count": 9
  },
  {
   "cell_type": "markdown",
   "source": "## Fixing the dataset according to FBProphet",
   "metadata": {
    "id": "1zTwHBqebhLs"
   }
  },
  {
   "cell_type": "code",
   "source": "df_train = data[['Date', 'Close']]\ndf_train = df_train.rename(columns={\"Date\": \"ds\", \"Close\": \"y\"})\ndf_train.head()",
   "metadata": {
    "id": "703yQdlhhDL-",
    "outputId": "6930905c-4b2c-41c1-ab47-b758edb12eb7",
    "trusted": true
   },
   "outputs": [],
   "execution_count": null
  },
  {
   "cell_type": "markdown",
   "source": "# Modelling",
   "metadata": {
    "id": "TUIrpTSbhTyf"
   }
  },
  {
   "cell_type": "markdown",
   "source": "[Here](https://www.analyticsvidhya.com/blog/2018/05/generate-accurate-forecasts-facebook-prophet-python-r/) is a link if you want to understand about the model and parameters in detail.",
   "metadata": {
    "id": "KAoT9idg8Ul4"
   }
  },
  {
   "cell_type": "code",
   "source": "m = Prophet(daily_seasonality=True)\nm.fit(df_train)",
   "metadata": {
    "id": "r0CjbTsRhTR9",
    "trusted": true
   },
   "outputs": [],
   "execution_count": null
  },
  {
   "cell_type": "markdown",
   "source": "## Making Future Predictions\n\nThe next step is to prepare our model to make future predictions. This is achieved using the Prophet.make_future_dataframe method and passing the number of days we’d like to predict in the future. We use the periods attribute to specify this. This also include the historical dates. We’ll use these historical dates to compare the predictions with the actual values in the ds column.\n\n* periods: int no. of periods to forecast forward.",
   "metadata": {
    "id": "ahRe1URIxWya"
   }
  },
  {
   "cell_type": "code",
   "source": "future = m.make_future_dataframe(periods=2*365)",
   "metadata": {
    "id": "PSSnpv0cxpLt",
    "trusted": true
   },
   "outputs": [],
   "execution_count": null
  },
  {
   "cell_type": "markdown",
   "source": "## Obtaining the Forecasts\n\n \nWe use the predict method to make future predictions. This will generate a dataframe with a yhat column that will contain the predictions.",
   "metadata": {
    "id": "e29hchzxxhqM"
   }
  },
  {
   "cell_type": "code",
   "source": "forecast = m.predict(future)",
   "metadata": {
    "id": "N9BxLkxhxsDa",
    "trusted": true
   },
   "outputs": [],
   "execution_count": null
  },
  {
   "cell_type": "markdown",
   "source": "## Plotting the Forecasts\n\nProphet has an inbuilt feature that enables us to plot the forecasts we just generated. This is achieved using mode.plot() and passing in our forecasts as the argument. The blue line in the graph represents the predicted values while the black dots represents the data in our dataset",
   "metadata": {
    "id": "2r0Pk1IIxwlj"
   }
  },
  {
   "cell_type": "code",
   "source": "m.plot(forecast)",
   "metadata": {
    "id": "nibFGSCwhaKI",
    "outputId": "61d0990f-7269-4904-f59c-1246a2b0ece9",
    "trusted": true
   },
   "outputs": [],
   "execution_count": null
  },
  {
   "cell_type": "code",
   "source": "py.iplot([\n    go.Scatter(x=df_train['ds'], y=df_train['y'], name='Actual'),\n    go.Scatter(x=forecast['ds'], y=forecast['yhat'], name='Predicted')\n])",
   "metadata": {
    "id": "VeVFZTIqi9CY",
    "outputId": "d3547d9d-ec7e-4b88-c724-658b5da13c82",
    "trusted": true
   },
   "outputs": [],
   "execution_count": null
  },
  {
   "cell_type": "markdown",
   "source": "## Plotting the Forecast Components\n\nThe plot_components method plots the trend, yearly and weekly seasonality of the time series data.",
   "metadata": {
    "id": "0YEt3GD4yBkj"
   }
  },
  {
   "cell_type": "code",
   "source": "#### Visualize Each Components[Trends,yearly]\nm.plot_components(forecast)",
   "metadata": {
    "id": "yG2Sb3LLjxcS",
    "outputId": "291e7175-373d-4ebf-97f2-992d86a08227",
    "trusted": true
   },
   "outputs": [],
   "execution_count": null
  },
  {
   "cell_type": "markdown",
   "source": "## Cross Validation\n\n \nNext let’s measure the forecast error using the historical data. We’ll do this by comparing the predicted values with the actual values. In order to perform this operation we select cut of points in the history of the data and fit the model with data upto that cut off point. Afterwards we compare the actual values to the predicted values. The cross_validation method allows us to do this in Prophet. This method take the following parameters as explained below:\n\n* Horizon the forecast horizon.\n* Initial the size of the initial training period.\n* Period the spacing between cutoff dates.\n\nThe output of the cross_validation method is a dataframe containing y the true values and yhat the predicted values. We’ll use this dataframe to compute the prediction errors.",
   "metadata": {
    "id": "vzct-tysyOFK"
   }
  },
  {
   "cell_type": "code",
   "source": "from fbprophet.diagnostics import cross_validation\ndf_cv = cross_validation(m, initial='365 days', period='180 days', horizon = '365 days')\ndf_cv.head()",
   "metadata": {
    "id": "79R5_XHHkUaf",
    "outputId": "d8a79373-a875-47e8-f7c0-0f8eb5a2efca",
    "trusted": true
   },
   "outputs": [],
   "execution_count": null
  },
  {
   "cell_type": "markdown",
   "source": "## Obtaining the Performance Metrics\n \nWe use the performance_metrics utility to compute the Mean Squared Error(MSE), Root Mean Squared Error(RMSE),Mean Absolute Error(MAE), Mean Absolute Percentage Error(MAPE) and the coverage of the the yhat_lower and yhat_upper estimates.",
   "metadata": {
    "id": "UpFaebCRyeb-"
   }
  },
  {
   "cell_type": "code",
   "source": "from fbprophet.diagnostics import performance_metrics\ndf_p = performance_metrics(df_cv)\ndf_p",
   "metadata": {
    "id": "5a4LERsUlRqB",
    "outputId": "7f9ec88a-0b19-4d38-f0dd-ebaa535f5f3d",
    "trusted": true
   },
   "outputs": [],
   "execution_count": null
  },
  {
   "cell_type": "markdown",
   "source": "## Visualizing Performance Metrics\n\nThe performance Metrics can be visualized using the plot_cross_validation_metric utility. Let’s visualize the RMSE below",
   "metadata": {
    "id": "PKXcP0Myyj0q"
   }
  },
  {
   "cell_type": "code",
   "source": "from fbprophet.plot import plot_cross_validation_metric\nfig = plot_cross_validation_metric(df_cv, metric='rmse')",
   "metadata": {
    "id": "lhYx3F3vmcki",
    "outputId": "aaf97c45-2e32-49d8-b58a-843269888065",
    "trusted": true
   },
   "outputs": [],
   "execution_count": null
  },
  {
   "cell_type": "markdown",
   "source": "# Conclusion\n\n \nAs we have seen Prophet is very powerful and effective in time series forecasting.",
   "metadata": {
    "id": "SX3kug33y0RI"
   }
  },
  {
   "cell_type": "markdown",
   "source": "# Thanks for spending some of your valuable time reading my notebook. If you find any value in here do give an upvote 🎇\n\n# Much Appretiated 🌠 ",
   "metadata": {}
  },
  {
   "cell_type": "markdown",
   "source": "<p align=\"center\">\n  <img width=\"400\" height=\"300\" src=\"https://media.giphy.com/media/xUPGcg1IJEKGCI6r5e/giphy.gif\">\n</p>",
   "metadata": {}
  }
 ]
}
