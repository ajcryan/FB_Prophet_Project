{
 "cells": [
  {
   "cell_type": "code",
   "id": "initial_id",
   "metadata": {
    "collapsed": true
   },
   "source": [
    "import pandas as pd\n",
    "from prophet import Prophet\n",
    "from prophet.plot import plot_plotly, plot_components_plotly\n",
    "!pip install yfinance\n",
    "import yfinance as yf\n",
    "from plotly import graph_objs as go\n",
    "from datetime import datetime\n"
   ],
   "outputs": [],
   "execution_count": null
  },
  {
   "metadata": {},
   "cell_type": "code",
   "source": "ySymbol = 'GOOG'",
   "id": "b92237105e0e6d5c",
   "outputs": [],
   "execution_count": null
  },
  {
   "metadata": {},
   "cell_type": "code",
   "source": [
    "#for SymbolName in stocksymbols:\n",
    "data = yf.download(\n",
    "    # tickers list or string as well\n",
    "    tickers = ySymbol,\n",
    "    # use \"period\" instead of start/end\n",
    "    # valid periods: 1d,5d,1mo,3mo,6mo,1y,2y,5y,10y,ytd,max\n",
    "    # (optional, default is '1mo')\n",
    "    period = \"2y\",\n",
    "    # fetch data by interval (including intraday if period < 60 days)\n",
    "    # valid intervals: 1m,2m,5m,15m,30m,60m,90m,1h,1d,5d,1wk,1mo,3mo\n",
    "    # (optional, default is '1d')\n",
    "    interval = \"1d\",\n",
    "    # group by ticker (to access via data['SPY'])\n",
    "    # (optional, default is 'column')\n",
    "    # group_by = 'ticker',\n",
    "    # adjust all OHLC(An open-high-low-close chart is a type of chart typically used to illustrate movements in the price of a financial instrument over time.) automatically\n",
    "    # (optional, default is False)\n",
    "    auto_adjust = True,\n",
    "    # download pre/post regular market hours data\n",
    "    # (optional, default is False)\n",
    "    prepost = True\n",
    ")"
   ],
   "id": "df67a08d9fc96f99",
   "outputs": [],
   "execution_count": null
  },
  {
   "metadata": {},
   "cell_type": "code",
   "source": "data",
   "id": "e8cfdbf17034439b",
   "outputs": [],
   "execution_count": null
  },
  {
   "metadata": {},
   "cell_type": "code",
   "source": "data.reset_index(inplace=True)",
   "id": "4aaf5a77bdc1f2f",
   "outputs": [],
   "execution_count": null
  },
  {
   "metadata": {},
   "cell_type": "code",
   "source": [
    "import plotly.offline as py\n",
    "\n",
    "py.iplot([go.Scatter(x=data['Date'], y=data['Close'])])"
   ],
   "id": "a9a0bb8e526c6da9",
   "outputs": [],
   "execution_count": null
  },
  {
   "metadata": {},
   "cell_type": "code",
   "source": [
    "df_train = data[['Date', 'Close']]\n",
    "df_train = df_train.rename(columns={\"Date\": \"ds\", \"Close\": \"y\"})\n",
    "df_train"
   ],
   "id": "44c84b06f67a4d4d",
   "outputs": [],
   "execution_count": null
  },
  {
   "metadata": {},
   "cell_type": "code",
   "source": [
    "m = Prophet(daily_seasonality = True)\n",
    "m.fit(df_train)"
   ],
   "id": "e30a2bbdef565417",
   "outputs": [],
   "execution_count": null
  },
  {
   "metadata": {},
   "cell_type": "code",
   "source": "future = m.make_future_dataframe(periods=2*365)",
   "id": "ead4cc0b481db55f",
   "outputs": [],
   "execution_count": null
  },
  {
   "metadata": {},
   "cell_type": "code",
   "source": "forecast = m.predict(future)",
   "id": "cd02173bccc10d85",
   "outputs": [],
   "execution_count": null
  },
  {
   "metadata": {},
   "cell_type": "code",
   "source": "m.plot(forecast)",
   "id": "8d28205086dd1628",
   "outputs": [],
   "execution_count": null
  },
  {
   "metadata": {},
   "cell_type": "code",
   "source": "py.iplot([go.Scatter(x=df_train['ds'], y=df_train['y'], name='Actual'), go.Scatter(x=forecast['ds'], y=forecast['yhat'], name='Predicted')])",
   "id": "e08fee41cd8c94ee",
   "outputs": [],
   "execution_count": null
  },
  {
   "metadata": {},
   "cell_type": "code",
   "source": "m.plot_components(forecast)",
   "id": "d14ba5774060981c",
   "outputs": [],
   "execution_count": null
  }
 ],
 "metadata": {
  "kernelspec": {
   "display_name": "Python 3",
   "language": "python",
   "name": "python3"
  },
  "language_info": {
   "codemirror_mode": {
    "name": "ipython",
    "version": 2
   },
   "file_extension": ".py",
   "mimetype": "text/x-python",
   "name": "python",
   "nbconvert_exporter": "python",
   "pygments_lexer": "ipython2",
   "version": "2.7.6"
  }
 },
 "nbformat": 4,
 "nbformat_minor": 5
}
